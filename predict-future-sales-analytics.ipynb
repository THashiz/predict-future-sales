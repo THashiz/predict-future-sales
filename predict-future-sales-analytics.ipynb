{
 "cells": [
  {
   "cell_type": "markdown",
   "execution_count": null,
   "metadata": {},
   "source": [
    "# 1C Company ソフトウェアのデベロッパー\n",
    "1C Companyは、独立したソフトウェア開発者、ディストリビューター、およびパブリッシャーであり、本社はロシアのモスクワにあります。コンピュータソフトウェア、関連サービス、ビデオゲームを開発、製造、ライセンス、サポート、販売しています。\n",
    "\n",
    "前提\n",
    "* 各ショップで販売された製品の総量を予測\n",
    "* ショップや商品のリストは毎月若干異なる\n",
    "* test.csvのshop x itemの2015年11月の売上を予測\n",
    "* 指標はRMSE\n",
    "\n",
    "\n",
    "確認したきこと\n",
    "* CVなしの日が存在するか？(店舗ごとにみたほうがよい？)\n",
    "* 季節性(ロシアだけに冬場CVが少ないとか)\n",
    "* test.csvの組み合わせについて、過去実績があるか？\n",
    "\n",
    "など\n",
    "\n",
    "他\n",
    "* なお、ショップや商品のリストは毎月若干異なります。このような状況を処理できる堅牢なモデルを作成することは、課題の一部です。\n",
    "→　2015/11に特化しないモデルという解釈？\n"
   ]
  },
  {
   "cell_type": "code",
   "execution_count": 1,
   "metadata": {
    "_cell_guid": "b1076dfc-b9ad-4769-8c92-a6c4dae69d19",
    "_uuid": "8f2839f25d086af736a60e9eeb907d3b93b6e0e5"
   },
   "outputs": [
    {
     "name": "stdout",
     "output_type": "stream",
     "text": [
      "/kaggle/input/competitive-data-science-predict-future-sales/items.csv\n",
      "/kaggle/input/competitive-data-science-predict-future-sales/shops.csv\n",
      "/kaggle/input/competitive-data-science-predict-future-sales/sales_train.csv\n",
      "/kaggle/input/competitive-data-science-predict-future-sales/test.csv\n",
      "/kaggle/input/competitive-data-science-predict-future-sales/sample_submission.csv\n",
      "/kaggle/input/competitive-data-science-predict-future-sales/item_categories.csv\n"
     ]
    }
   ],
   "source": [
    "# This Python 3 environment comes with many helpful analytics libraries installed\n",
    "# It is defined by the kaggle/python Docker image: https://github.com/kaggle/docker-python\n",
    "# For example, here's several helpful packages to load\n",
    "\n",
    "import numpy as np # linear algebra\n",
    "import pandas as pd # data processing, CSV file I/O (e.g. pd.read_csv)\n",
    "\n",
    "# Input data files are available in the read-only \"../input/\" directory\n",
    "# For example, running this (by clicking run or pressing Shift+Enter) will list all files under the input directory\n",
    "\n",
    "import os\n",
    "for dirname, _, filenames in os.walk('/kaggle/input'):\n",
    "    for filename in filenames:\n",
    "        print(os.path.join(dirname, filename))\n",
    "\n",
    "# You can write up to 5GB to the current directory (/kaggle/working/) that gets preserved as output when you create a version using \"Save & Run All\" \n",
    "# You can also write temporary files to /kaggle/temp/, but they won't be saved outside of the current session"
   ]
  },
  {
   "cell_type": "code",
   "execution_count": 2,
   "metadata": {
    "_cell_guid": "79c7e3d0-c299-4dcb-8224-4455121ee9b0",
    "_uuid": "d629ff2d2480ee46fbb7e2d37f6b5fab8052498a"
   },
   "outputs": [],
   "source": [
    "# ライブラリのロード\n",
    "import matplotlib.pyplot as plt\n",
    "import seaborn as sns\n",
    "from sklearn.datasets import load_boston\n",
    "import io"
   ]
  },
  {
   "cell_type": "markdown",
   "execution_count": null,
   "metadata": {},
   "source": [
    "sales_train.csv-トレーニングセット。2013年1月から2015年10月までの毎日の履歴データ。  \n",
    "test.csv-テストセット。これらのショップと製品の2015年11月の売上を予測する必要があります。  \n",
    "sample_submission.csv-正しい形式のサンプル送信ファイル。  \n",
    "items.csv-アイテム/製品に関する補足情報。  \n",
    "item_categories.csv-   アイテムのカテゴリに関する補足情報。  \n",
    "shop.csv-ショップに関する補足情報。  "
   ]
  },
  {
   "cell_type": "code",
   "execution_count": 3,
   "metadata": {},
   "outputs": [],
   "source": [
    "# ローカルのファイルをロード\n",
    "pd.set_option('display.max_columns', 100)\n",
    "pd.set_option('display.max_rows', 100)\n",
    "\n",
    "sample_submission = pd.read_csv('/kaggle/input/competitive-data-science-predict-future-sales/sample_submission.csv')\n",
    "shop = pd.read_csv('/kaggle/input/competitive-data-science-predict-future-sales/shops.csv')\n",
    "item = pd.read_csv('/kaggle/input/competitive-data-science-predict-future-sales/items.csv')\n",
    "item_categories = pd.read_csv('/kaggle/input/competitive-data-science-predict-future-sales/item_categories.csv')\n",
    "sales_train = pd.read_csv('/kaggle/input/competitive-data-science-predict-future-sales/sales_train.csv')\n",
    "test = pd.read_csv('/kaggle/input/competitive-data-science-predict-future-sales/test.csv')\n"
   ]
  },
  {
   "cell_type": "code",
   "execution_count": 4,
   "metadata": {},
   "outputs": [
    {
     "data": {
      "text/plain": [
       "ID                214200\n",
       "item_cnt_month    214200\n",
       "dtype: int64"
      ]
     },
     "execution_count": 4,
     "metadata": {},
     "output_type": "execute_result"
    }
   ],
   "source": [
    "sample_submission.count()"
   ]
  },
  {
   "cell_type": "code",
   "execution_count": 5,
   "metadata": {},
   "outputs": [
    {
     "name": "stdout",
     "output_type": "stream",
     "text": [
      "            ID  item_cnt_month\n",
      "0            0             0.5\n",
      "1            1             0.5\n",
      "2            2             0.5\n",
      "3            3             0.5\n",
      "4            4             0.5\n",
      "...        ...             ...\n",
      "214195  214195             0.5\n",
      "214196  214196             0.5\n",
      "214197  214197             0.5\n",
      "214198  214198             0.5\n",
      "214199  214199             0.5\n",
      "\n",
      "[214200 rows x 2 columns]\n"
     ]
    }
   ],
   "source": [
    "print(sample_submission)"
   ]
  },
  {
   "cell_type": "code",
   "execution_count": 6,
   "metadata": {},
   "outputs": [
    {
     "data": {
      "text/plain": [
       "ID         214200\n",
       "shop_id    214200\n",
       "item_id    214200\n",
       "dtype: int64"
      ]
     },
     "execution_count": 6,
     "metadata": {},
     "output_type": "execute_result"
    }
   ],
   "source": [
    "test.count()"
   ]
  },
  {
   "cell_type": "code",
   "execution_count": 7,
   "metadata": {},
   "outputs": [
    {
     "data": {
      "text/html": [
       "<div>\n",
       "<style scoped>\n",
       "    .dataframe tbody tr th:only-of-type {\n",
       "        vertical-align: middle;\n",
       "    }\n",
       "\n",
       "    .dataframe tbody tr th {\n",
       "        vertical-align: top;\n",
       "    }\n",
       "\n",
       "    .dataframe thead th {\n",
       "        text-align: right;\n",
       "    }\n",
       "</style>\n",
       "<table border=\"1\" class=\"dataframe\">\n",
       "  <thead>\n",
       "    <tr style=\"text-align: right;\">\n",
       "      <th></th>\n",
       "      <th>shop_name</th>\n",
       "      <th>shop_id</th>\n",
       "    </tr>\n",
       "  </thead>\n",
       "  <tbody>\n",
       "    <tr>\n",
       "      <th>0</th>\n",
       "      <td>!Якутск Орджоникидзе, 56 фран</td>\n",
       "      <td>0</td>\n",
       "    </tr>\n",
       "    <tr>\n",
       "      <th>1</th>\n",
       "      <td>!Якутск ТЦ \"Центральный\" фран</td>\n",
       "      <td>1</td>\n",
       "    </tr>\n",
       "    <tr>\n",
       "      <th>2</th>\n",
       "      <td>Адыгея ТЦ \"Мега\"</td>\n",
       "      <td>2</td>\n",
       "    </tr>\n",
       "    <tr>\n",
       "      <th>3</th>\n",
       "      <td>Балашиха ТРК \"Октябрь-Киномир\"</td>\n",
       "      <td>3</td>\n",
       "    </tr>\n",
       "    <tr>\n",
       "      <th>4</th>\n",
       "      <td>Волжский ТЦ \"Волга Молл\"</td>\n",
       "      <td>4</td>\n",
       "    </tr>\n",
       "  </tbody>\n",
       "</table>\n",
       "</div>"
      ],
      "text/plain": [
       "                        shop_name  shop_id\n",
       "0   !Якутск Орджоникидзе, 56 фран        0\n",
       "1   !Якутск ТЦ \"Центральный\" фран        1\n",
       "2                Адыгея ТЦ \"Мега\"        2\n",
       "3  Балашиха ТРК \"Октябрь-Киномир\"        3\n",
       "4        Волжский ТЦ \"Волга Молл\"        4"
      ]
     },
     "execution_count": 7,
     "metadata": {},
     "output_type": "execute_result"
    }
   ],
   "source": [
    "shop.head()"
   ]
  },
  {
   "cell_type": "code",
   "execution_count": 8,
   "metadata": {},
   "outputs": [
    {
     "data": {
      "text/plain": [
       "shop_name    60\n",
       "shop_id      60\n",
       "dtype: int64"
      ]
     },
     "execution_count": 8,
     "metadata": {},
     "output_type": "execute_result"
    }
   ],
   "source": [
    "shop.count()"
   ]
  },
  {
   "cell_type": "code",
   "execution_count": 9,
   "metadata": {},
   "outputs": [
    {
     "data": {
      "text/html": [
       "<div>\n",
       "<style scoped>\n",
       "    .dataframe tbody tr th:only-of-type {\n",
       "        vertical-align: middle;\n",
       "    }\n",
       "\n",
       "    .dataframe tbody tr th {\n",
       "        vertical-align: top;\n",
       "    }\n",
       "\n",
       "    .dataframe thead th {\n",
       "        text-align: right;\n",
       "    }\n",
       "</style>\n",
       "<table border=\"1\" class=\"dataframe\">\n",
       "  <thead>\n",
       "    <tr style=\"text-align: right;\">\n",
       "      <th></th>\n",
       "      <th>item_name</th>\n",
       "      <th>item_id</th>\n",
       "      <th>item_category_id</th>\n",
       "    </tr>\n",
       "  </thead>\n",
       "  <tbody>\n",
       "    <tr>\n",
       "      <th>0</th>\n",
       "      <td>! ВО ВЛАСТИ НАВАЖДЕНИЯ (ПЛАСТ.)         D</td>\n",
       "      <td>0</td>\n",
       "      <td>40</td>\n",
       "    </tr>\n",
       "    <tr>\n",
       "      <th>1</th>\n",
       "      <td>!ABBYY FineReader 12 Professional Edition Full...</td>\n",
       "      <td>1</td>\n",
       "      <td>76</td>\n",
       "    </tr>\n",
       "    <tr>\n",
       "      <th>2</th>\n",
       "      <td>***В ЛУЧАХ СЛАВЫ   (UNV)                    D</td>\n",
       "      <td>2</td>\n",
       "      <td>40</td>\n",
       "    </tr>\n",
       "    <tr>\n",
       "      <th>3</th>\n",
       "      <td>***ГОЛУБАЯ ВОЛНА  (Univ)                      D</td>\n",
       "      <td>3</td>\n",
       "      <td>40</td>\n",
       "    </tr>\n",
       "    <tr>\n",
       "      <th>4</th>\n",
       "      <td>***КОРОБКА (СТЕКЛО)                       D</td>\n",
       "      <td>4</td>\n",
       "      <td>40</td>\n",
       "    </tr>\n",
       "  </tbody>\n",
       "</table>\n",
       "</div>"
      ],
      "text/plain": [
       "                                           item_name  item_id  \\\n",
       "0          ! ВО ВЛАСТИ НАВАЖДЕНИЯ (ПЛАСТ.)         D        0   \n",
       "1  !ABBYY FineReader 12 Professional Edition Full...        1   \n",
       "2      ***В ЛУЧАХ СЛАВЫ   (UNV)                    D        2   \n",
       "3    ***ГОЛУБАЯ ВОЛНА  (Univ)                      D        3   \n",
       "4        ***КОРОБКА (СТЕКЛО)                       D        4   \n",
       "\n",
       "   item_category_id  \n",
       "0                40  \n",
       "1                76  \n",
       "2                40  \n",
       "3                40  \n",
       "4                40  "
      ]
     },
     "execution_count": 9,
     "metadata": {},
     "output_type": "execute_result"
    }
   ],
   "source": [
    "item.head()"
   ]
  },
  {
   "cell_type": "code",
   "execution_count": 10,
   "metadata": {},
   "outputs": [
    {
     "data": {
      "text/plain": [
       "item_name           22170\n",
       "item_id             22170\n",
       "item_category_id    22170\n",
       "dtype: int64"
      ]
     },
     "execution_count": 10,
     "metadata": {},
     "output_type": "execute_result"
    }
   ],
   "source": [
    "item.count()"
   ]
  },
  {
   "cell_type": "code",
   "execution_count": 11,
   "metadata": {},
   "outputs": [
    {
     "name": "stdout",
     "output_type": "stream",
     "text": [
      "1330200\n"
     ]
    }
   ],
   "source": [
    "print(60*22170)"
   ]
  },
  {
   "cell_type": "markdown",
   "execution_count": null,
   "metadata": {},
   "source": [
    "テストとアイテム＊ショップが一致しないのでテストは対象アイテムと店舗が絞られている。"
   ]
  },
  {
   "cell_type": "code",
   "execution_count": 12,
   "metadata": {},
   "outputs": [
    {
     "data": {
      "text/html": [
       "<div>\n",
       "<style scoped>\n",
       "    .dataframe tbody tr th:only-of-type {\n",
       "        vertical-align: middle;\n",
       "    }\n",
       "\n",
       "    .dataframe tbody tr th {\n",
       "        vertical-align: top;\n",
       "    }\n",
       "\n",
       "    .dataframe thead th {\n",
       "        text-align: right;\n",
       "    }\n",
       "</style>\n",
       "<table border=\"1\" class=\"dataframe\">\n",
       "  <thead>\n",
       "    <tr style=\"text-align: right;\">\n",
       "      <th></th>\n",
       "      <th>item_category_name</th>\n",
       "      <th>item_category_id</th>\n",
       "    </tr>\n",
       "  </thead>\n",
       "  <tbody>\n",
       "    <tr>\n",
       "      <th>0</th>\n",
       "      <td>PC - Гарнитуры/Наушники</td>\n",
       "      <td>0</td>\n",
       "    </tr>\n",
       "    <tr>\n",
       "      <th>1</th>\n",
       "      <td>Аксессуары - PS2</td>\n",
       "      <td>1</td>\n",
       "    </tr>\n",
       "    <tr>\n",
       "      <th>2</th>\n",
       "      <td>Аксессуары - PS3</td>\n",
       "      <td>2</td>\n",
       "    </tr>\n",
       "    <tr>\n",
       "      <th>3</th>\n",
       "      <td>Аксессуары - PS4</td>\n",
       "      <td>3</td>\n",
       "    </tr>\n",
       "    <tr>\n",
       "      <th>4</th>\n",
       "      <td>Аксессуары - PSP</td>\n",
       "      <td>4</td>\n",
       "    </tr>\n",
       "  </tbody>\n",
       "</table>\n",
       "</div>"
      ],
      "text/plain": [
       "        item_category_name  item_category_id\n",
       "0  PC - Гарнитуры/Наушники                 0\n",
       "1         Аксессуары - PS2                 1\n",
       "2         Аксессуары - PS3                 2\n",
       "3         Аксессуары - PS4                 3\n",
       "4         Аксессуары - PSP                 4"
      ]
     },
     "execution_count": 12,
     "metadata": {},
     "output_type": "execute_result"
    }
   ],
   "source": [
    "item_categories.head()"
   ]
  },
  {
   "cell_type": "code",
   "execution_count": 13,
   "metadata": {},
   "outputs": [
    {
     "data": {
      "text/html": [
       "<div>\n",
       "<style scoped>\n",
       "    .dataframe tbody tr th:only-of-type {\n",
       "        vertical-align: middle;\n",
       "    }\n",
       "\n",
       "    .dataframe tbody tr th {\n",
       "        vertical-align: top;\n",
       "    }\n",
       "\n",
       "    .dataframe thead th {\n",
       "        text-align: right;\n",
       "    }\n",
       "</style>\n",
       "<table border=\"1\" class=\"dataframe\">\n",
       "  <thead>\n",
       "    <tr style=\"text-align: right;\">\n",
       "      <th></th>\n",
       "      <th>item_category_id</th>\n",
       "    </tr>\n",
       "  </thead>\n",
       "  <tbody>\n",
       "    <tr>\n",
       "      <th>count</th>\n",
       "      <td>84.000000</td>\n",
       "    </tr>\n",
       "    <tr>\n",
       "      <th>mean</th>\n",
       "      <td>41.500000</td>\n",
       "    </tr>\n",
       "    <tr>\n",
       "      <th>std</th>\n",
       "      <td>24.392622</td>\n",
       "    </tr>\n",
       "    <tr>\n",
       "      <th>min</th>\n",
       "      <td>0.000000</td>\n",
       "    </tr>\n",
       "    <tr>\n",
       "      <th>25%</th>\n",
       "      <td>20.750000</td>\n",
       "    </tr>\n",
       "    <tr>\n",
       "      <th>50%</th>\n",
       "      <td>41.500000</td>\n",
       "    </tr>\n",
       "    <tr>\n",
       "      <th>75%</th>\n",
       "      <td>62.250000</td>\n",
       "    </tr>\n",
       "    <tr>\n",
       "      <th>max</th>\n",
       "      <td>83.000000</td>\n",
       "    </tr>\n",
       "  </tbody>\n",
       "</table>\n",
       "</div>"
      ],
      "text/plain": [
       "       item_category_id\n",
       "count         84.000000\n",
       "mean          41.500000\n",
       "std           24.392622\n",
       "min            0.000000\n",
       "25%           20.750000\n",
       "50%           41.500000\n",
       "75%           62.250000\n",
       "max           83.000000"
      ]
     },
     "execution_count": 13,
     "metadata": {},
     "output_type": "execute_result"
    }
   ],
   "source": [
    "item_categories.describe()"
   ]
  },
  {
   "cell_type": "code",
   "execution_count": 14,
   "metadata": {},
   "outputs": [
    {
     "data": {
      "text/html": [
       "<div>\n",
       "<style scoped>\n",
       "    .dataframe tbody tr th:only-of-type {\n",
       "        vertical-align: middle;\n",
       "    }\n",
       "\n",
       "    .dataframe tbody tr th {\n",
       "        vertical-align: top;\n",
       "    }\n",
       "\n",
       "    .dataframe thead th {\n",
       "        text-align: right;\n",
       "    }\n",
       "</style>\n",
       "<table border=\"1\" class=\"dataframe\">\n",
       "  <thead>\n",
       "    <tr style=\"text-align: right;\">\n",
       "      <th></th>\n",
       "      <th>date</th>\n",
       "      <th>date_block_num</th>\n",
       "      <th>shop_id</th>\n",
       "      <th>item_id</th>\n",
       "      <th>item_price</th>\n",
       "      <th>item_cnt_day</th>\n",
       "    </tr>\n",
       "  </thead>\n",
       "  <tbody>\n",
       "    <tr>\n",
       "      <th>0</th>\n",
       "      <td>02.01.2013</td>\n",
       "      <td>0</td>\n",
       "      <td>59</td>\n",
       "      <td>22154</td>\n",
       "      <td>999.00</td>\n",
       "      <td>1.0</td>\n",
       "    </tr>\n",
       "    <tr>\n",
       "      <th>1</th>\n",
       "      <td>03.01.2013</td>\n",
       "      <td>0</td>\n",
       "      <td>25</td>\n",
       "      <td>2552</td>\n",
       "      <td>899.00</td>\n",
       "      <td>1.0</td>\n",
       "    </tr>\n",
       "    <tr>\n",
       "      <th>2</th>\n",
       "      <td>05.01.2013</td>\n",
       "      <td>0</td>\n",
       "      <td>25</td>\n",
       "      <td>2552</td>\n",
       "      <td>899.00</td>\n",
       "      <td>-1.0</td>\n",
       "    </tr>\n",
       "    <tr>\n",
       "      <th>3</th>\n",
       "      <td>06.01.2013</td>\n",
       "      <td>0</td>\n",
       "      <td>25</td>\n",
       "      <td>2554</td>\n",
       "      <td>1709.05</td>\n",
       "      <td>1.0</td>\n",
       "    </tr>\n",
       "    <tr>\n",
       "      <th>4</th>\n",
       "      <td>15.01.2013</td>\n",
       "      <td>0</td>\n",
       "      <td>25</td>\n",
       "      <td>2555</td>\n",
       "      <td>1099.00</td>\n",
       "      <td>1.0</td>\n",
       "    </tr>\n",
       "  </tbody>\n",
       "</table>\n",
       "</div>"
      ],
      "text/plain": [
       "         date  date_block_num  shop_id  item_id  item_price  item_cnt_day\n",
       "0  02.01.2013               0       59    22154      999.00           1.0\n",
       "1  03.01.2013               0       25     2552      899.00           1.0\n",
       "2  05.01.2013               0       25     2552      899.00          -1.0\n",
       "3  06.01.2013               0       25     2554     1709.05           1.0\n",
       "4  15.01.2013               0       25     2555     1099.00           1.0"
      ]
     },
     "execution_count": 14,
     "metadata": {},
     "output_type": "execute_result"
    }
   ],
   "source": [
    "sales_train.head()"
   ]
  },
  {
   "cell_type": "markdown",
   "execution_count": null,
   "metadata": {},
   "source": [
    "item_cnt_dayにマイナス値が存在？返品か？  \n",
    "値は月単位に集計しclipするため除外や0埋めは行えない。"
   ]
  },
  {
   "cell_type": "code",
   "execution_count": 15,
   "metadata": {},
   "outputs": [
    {
     "data": {
      "text/html": [
       "<div>\n",
       "<style scoped>\n",
       "    .dataframe tbody tr th:only-of-type {\n",
       "        vertical-align: middle;\n",
       "    }\n",
       "\n",
       "    .dataframe tbody tr th {\n",
       "        vertical-align: top;\n",
       "    }\n",
       "\n",
       "    .dataframe thead th {\n",
       "        text-align: right;\n",
       "    }\n",
       "</style>\n",
       "<table border=\"1\" class=\"dataframe\">\n",
       "  <thead>\n",
       "    <tr style=\"text-align: right;\">\n",
       "      <th></th>\n",
       "      <th>date_block_num</th>\n",
       "      <th>shop_id</th>\n",
       "      <th>item_id</th>\n",
       "      <th>item_price</th>\n",
       "      <th>item_cnt_day</th>\n",
       "    </tr>\n",
       "  </thead>\n",
       "  <tbody>\n",
       "    <tr>\n",
       "      <th>count</th>\n",
       "      <td>2.935849e+06</td>\n",
       "      <td>2.935849e+06</td>\n",
       "      <td>2.935849e+06</td>\n",
       "      <td>2.935849e+06</td>\n",
       "      <td>2.935849e+06</td>\n",
       "    </tr>\n",
       "    <tr>\n",
       "      <th>mean</th>\n",
       "      <td>1.456991e+01</td>\n",
       "      <td>3.300173e+01</td>\n",
       "      <td>1.019723e+04</td>\n",
       "      <td>8.908532e+02</td>\n",
       "      <td>1.242641e+00</td>\n",
       "    </tr>\n",
       "    <tr>\n",
       "      <th>std</th>\n",
       "      <td>9.422988e+00</td>\n",
       "      <td>1.622697e+01</td>\n",
       "      <td>6.324297e+03</td>\n",
       "      <td>1.729800e+03</td>\n",
       "      <td>2.618834e+00</td>\n",
       "    </tr>\n",
       "    <tr>\n",
       "      <th>min</th>\n",
       "      <td>0.000000e+00</td>\n",
       "      <td>0.000000e+00</td>\n",
       "      <td>0.000000e+00</td>\n",
       "      <td>-1.000000e+00</td>\n",
       "      <td>-2.200000e+01</td>\n",
       "    </tr>\n",
       "    <tr>\n",
       "      <th>25%</th>\n",
       "      <td>7.000000e+00</td>\n",
       "      <td>2.200000e+01</td>\n",
       "      <td>4.476000e+03</td>\n",
       "      <td>2.490000e+02</td>\n",
       "      <td>1.000000e+00</td>\n",
       "    </tr>\n",
       "    <tr>\n",
       "      <th>50%</th>\n",
       "      <td>1.400000e+01</td>\n",
       "      <td>3.100000e+01</td>\n",
       "      <td>9.343000e+03</td>\n",
       "      <td>3.990000e+02</td>\n",
       "      <td>1.000000e+00</td>\n",
       "    </tr>\n",
       "    <tr>\n",
       "      <th>75%</th>\n",
       "      <td>2.300000e+01</td>\n",
       "      <td>4.700000e+01</td>\n",
       "      <td>1.568400e+04</td>\n",
       "      <td>9.990000e+02</td>\n",
       "      <td>1.000000e+00</td>\n",
       "    </tr>\n",
       "    <tr>\n",
       "      <th>max</th>\n",
       "      <td>3.300000e+01</td>\n",
       "      <td>5.900000e+01</td>\n",
       "      <td>2.216900e+04</td>\n",
       "      <td>3.079800e+05</td>\n",
       "      <td>2.169000e+03</td>\n",
       "    </tr>\n",
       "  </tbody>\n",
       "</table>\n",
       "</div>"
      ],
      "text/plain": [
       "       date_block_num       shop_id       item_id    item_price  item_cnt_day\n",
       "count    2.935849e+06  2.935849e+06  2.935849e+06  2.935849e+06  2.935849e+06\n",
       "mean     1.456991e+01  3.300173e+01  1.019723e+04  8.908532e+02  1.242641e+00\n",
       "std      9.422988e+00  1.622697e+01  6.324297e+03  1.729800e+03  2.618834e+00\n",
       "min      0.000000e+00  0.000000e+00  0.000000e+00 -1.000000e+00 -2.200000e+01\n",
       "25%      7.000000e+00  2.200000e+01  4.476000e+03  2.490000e+02  1.000000e+00\n",
       "50%      1.400000e+01  3.100000e+01  9.343000e+03  3.990000e+02  1.000000e+00\n",
       "75%      2.300000e+01  4.700000e+01  1.568400e+04  9.990000e+02  1.000000e+00\n",
       "max      3.300000e+01  5.900000e+01  2.216900e+04  3.079800e+05  2.169000e+03"
      ]
     },
     "execution_count": 15,
     "metadata": {},
     "output_type": "execute_result"
    }
   ],
   "source": [
    "sales_train.describe()"
   ]
  },
  {
   "cell_type": "code",
   "execution_count": 16,
   "metadata": {},
   "outputs": [
    {
     "data": {
      "text/plain": [
       "date              2935849\n",
       "date_block_num    2935849\n",
       "shop_id           2935849\n",
       "item_id           2935849\n",
       "item_price        2935849\n",
       "item_cnt_day      2935849\n",
       "dtype: int64"
      ]
     },
     "execution_count": 16,
     "metadata": {},
     "output_type": "execute_result"
    }
   ],
   "source": [
    "sales_train.count()"
   ]
  },
  {
   "cell_type": "markdown",
   "execution_count": null,
   "metadata": {},
   "source": [
    "# sales_trainのitem_cnt_dayに外れ値が無いか確認してみる"
   ]
  },
  {
   "cell_type": "code",
   "execution_count": 17,
   "metadata": {},
   "outputs": [
    {
     "data": {
      "text/plain": [
       "<matplotlib.collections.PathCollection at 0x7f4ea02d1f50>"
      ]
     },
     "execution_count": 17,
     "metadata": {},
     "output_type": "execute_result"
    },
    {
     "data": {
      "image/png": "[encoded data removed]",
      "text/plain": [
       "<Figure size 432x288 with 1 Axes>"
      ]
     },
     "metadata": {
      "needs_background": "light"
     },
     "output_type": "display_data"
    }
   ],
   "source": [
    "# item_cnt_day \n",
    "x = sales_train['item_cnt_day']\n",
    "y = sales_train['date_block_num']\n",
    " \n",
    "# 散布図を描画\n",
    "plt.scatter(x, y)"
   ]
  },
  {
   "cell_type": "markdown",
   "execution_count": null,
   "metadata": {},
   "source": [
    "何か売上個数がぶっ飛んだアイテムが存在している。"
   ]
  },
  {
   "cell_type": "code",
   "execution_count": 18,
   "metadata": {},
   "outputs": [
    {
     "name": "stdout",
     "output_type": "stream",
     "text": [
      "               date  date_block_num  shop_id  item_id  item_price  \\\n",
      "2909818  28.10.2015              33       12    11373    0.908714   \n",
      "\n",
      "         item_cnt_day  \n",
      "2909818        2169.0  \n"
     ]
    }
   ],
   "source": [
    "day_cnt_over = sales_train[sales_train['item_cnt_day'] > 1000]\n",
    "print(day_cnt_over)"
   ]
  },
  {
   "cell_type": "code",
   "execution_count": 19,
   "metadata": {},
   "outputs": [
    {
     "name": "stdout",
     "output_type": "stream",
     "text": [
      "         date  date_block_num  shop_id  item_id  item_price  item_cnt_day  \\\n",
      "0  28.10.2015              33       12    11373    0.908714        2169.0   \n",
      "\n",
      "                              item_name  item_category_id  \n",
      "0  Доставка до пункта выдачи (Boxberry)                 9  \n"
     ]
    }
   ],
   "source": [
    "day_cnt_over_item = pd.merge(day_cnt_over, item, on='item_id', how='left')\n",
    "print(day_cnt_over_item)\n"
   ]
  },
  {
   "cell_type": "markdown",
   "execution_count": null,
   "metadata": {},
   "source": [
    "Доставка до пункта выдачи(Boxberry)  \n",
    "\n",
    "問題点への配送(Boxberry) : 故障？などの配送？ "
   ]
  },
  {
   "cell_type": "code",
   "execution_count": 20,
   "metadata": {},
   "outputs": [
    {
     "name": "stdout",
     "output_type": "stream",
     "text": [
      "               date  date_block_num  shop_id  item_id  item_price  \\\n",
      "58323    08.01.2013               0       12    11373     1000.00   \n",
      "58324    31.01.2013               0       12    11373       97.80   \n",
      "176790   01.02.2013               1       12    11373      229.00   \n",
      "176791   04.02.2013               1       12    11373      130.00   \n",
      "302468   29.03.2013               2       12    11373      139.50   \n",
      "...             ...             ...      ...      ...         ...   \n",
      "2909829  07.10.2015              33       12    11373      855.00   \n",
      "2909830  06.10.2015              33       12    11373      208.80   \n",
      "2909831  05.10.2015              33       12    11373      140.75   \n",
      "2909832  02.10.2015              33       12    11373      648.50   \n",
      "2909856  01.10.2015              33       12    11373      361.25   \n",
      "\n",
      "         item_cnt_day  \n",
      "58323             1.0  \n",
      "58324             5.0  \n",
      "176790            1.0  \n",
      "176791            1.0  \n",
      "302468            2.0  \n",
      "...               ...  \n",
      "2909829           2.0  \n",
      "2909830           5.0  \n",
      "2909831          16.0  \n",
      "2909832           2.0  \n",
      "2909856           4.0  \n",
      "\n",
      "[464 rows x 6 columns]\n"
     ]
    }
   ],
   "source": [
    "item_check = sales_train[sales_train['item_id'] == 11373]\n",
    "print(item_check)"
   ]
  },
  {
   "cell_type": "markdown",
   "execution_count": null,
   "metadata": {},
   "source": [
    "priceにバラつきがある。\n"
   ]
  },
  {
   "cell_type": "code",
   "execution_count": 21,
   "metadata": {},
   "outputs": [
    {
     "name": "stdout",
     "output_type": "stream",
     "text": [
      "                               item_cnt_day\n",
      "                                       mean\n",
      "date_block_num shop_id item_id             \n",
      "0              12      11373       3.000000\n",
      "1              12      11373       1.000000\n",
      "2              12      11373       3.500000\n",
      "3              12      11373       1.800000\n",
      "4              12      11373       1.166667\n",
      "5              12      11373       2.800000\n",
      "6              12      11373       1.125000\n",
      "7              12      11373       4.875000\n",
      "8              12      11373       2.062500\n",
      "9              12      11373       4.636364\n",
      "10             12      11373      31.083333\n",
      "11             12      11373       7.700000\n",
      "12             12      11373       3.833333\n",
      "13             12      11373      12.200000\n",
      "14             12      11373      14.500000\n",
      "15             12      11373       4.066667\n",
      "16             12      11373       9.800000\n",
      "17             12      11373       4.166667\n",
      "18             12      11373       2.285714\n",
      "19             12      11373       3.000000\n",
      "20             12      11373       5.157895\n",
      "21             12      11373       3.777778\n",
      "22             12      11373      18.117647\n",
      "23             12      11373      12.619048\n",
      "24             12      11373      10.230769\n",
      "25             12      11373       7.312500\n",
      "26             12      11373       8.647059\n",
      "27             12      11373      14.600000\n",
      "28             12      11373      46.375000\n",
      "29             12      11373      10.100000\n",
      "30             12      11373      10.578947\n",
      "31             12      11373       3.571429\n",
      "32             12      11373      11.181818\n",
      "33             12      11373     118.578947\n"
     ]
    }
   ],
   "source": [
    "price_mean = item_check.groupby(['date_block_num','shop_id','item_id']).agg({'item_cnt_day': ['mean']})\n",
    "print(price_mean)"
   ]
  },
  {
   "cell_type": "markdown",
   "execution_count": null,
   "metadata": {},
   "source": [
    "* shop依存のアイテム。。。 \n",
    "* 33か月目の1日当たりの平均が異常\n"
   ]
  },
  {
   "cell_type": "code",
   "execution_count": 22,
   "metadata": {},
   "outputs": [
    {
     "name": "stdout",
     "output_type": "stream",
     "text": [
      "                               item_cnt_day\n",
      "                                       mean\n",
      "date_block_num shop_id item_id             \n",
      "33             12      11373       4.666667\n"
     ]
    }
   ],
   "source": [
    "price_mean2=item_check[(item_check['item_cnt_day'] < 1000) & (item_check['date_block_num'] == 33) ].groupby(['date_block_num','shop_id','item_id']).agg({'item_cnt_day': ['mean']})\n",
    "print(price_mean2)"
   ]
  },
  {
   "cell_type": "markdown",
   "execution_count": null,
   "metadata": {},
   "source": [
    "* 1日除くと平均値がかなり下がる。\n",
    "* 異常値っぽいので除外してみるか？"
   ]
  },
  {
   "cell_type": "code",
   "execution_count": 23,
   "metadata": {},
   "outputs": [
    {
     "data": {
      "text/html": [
       "<div>\n",
       "<style scoped>\n",
       "    .dataframe tbody tr th:only-of-type {\n",
       "        vertical-align: middle;\n",
       "    }\n",
       "\n",
       "    .dataframe tbody tr th {\n",
       "        vertical-align: top;\n",
       "    }\n",
       "\n",
       "    .dataframe thead th {\n",
       "        text-align: right;\n",
       "    }\n",
       "</style>\n",
       "<table border=\"1\" class=\"dataframe\">\n",
       "  <thead>\n",
       "    <tr style=\"text-align: right;\">\n",
       "      <th></th>\n",
       "      <th>ID</th>\n",
       "      <th>shop_id</th>\n",
       "      <th>item_id</th>\n",
       "    </tr>\n",
       "  </thead>\n",
       "  <tbody>\n",
       "    <tr>\n",
       "      <th>1596</th>\n",
       "      <td>1596</td>\n",
       "      <td>5</td>\n",
       "      <td>11373</td>\n",
       "    </tr>\n",
       "    <tr>\n",
       "      <th>6696</th>\n",
       "      <td>6696</td>\n",
       "      <td>4</td>\n",
       "      <td>11373</td>\n",
       "    </tr>\n",
       "    <tr>\n",
       "      <th>11796</th>\n",
       "      <td>11796</td>\n",
       "      <td>6</td>\n",
       "      <td>11373</td>\n",
       "    </tr>\n",
       "    <tr>\n",
       "      <th>16896</th>\n",
       "      <td>16896</td>\n",
       "      <td>3</td>\n",
       "      <td>11373</td>\n",
       "    </tr>\n",
       "    <tr>\n",
       "      <th>21996</th>\n",
       "      <td>21996</td>\n",
       "      <td>2</td>\n",
       "      <td>11373</td>\n",
       "    </tr>\n",
       "  </tbody>\n",
       "</table>\n",
       "</div>"
      ],
      "text/plain": [
       "          ID  shop_id  item_id\n",
       "1596    1596        5    11373\n",
       "6696    6696        4    11373\n",
       "11796  11796        6    11373\n",
       "16896  16896        3    11373\n",
       "21996  21996        2    11373"
      ]
     },
     "execution_count": 23,
     "metadata": {},
     "output_type": "execute_result"
    }
   ],
   "source": [
    "check = test[test['item_id'] == 11373]\n",
    "check.head()"
   ]
  },
  {
   "cell_type": "markdown",
   "execution_count": null,
   "metadata": {},
   "source": [
    "TESTには各店舗分データが存在している。。。"
   ]
  },
  {
   "cell_type": "markdown",
   "execution_count": null,
   "metadata": {},
   "source": [
    "# sales_trainのitem_priceに外れ値が無いか確認してみる"
   ]
  },
  {
   "cell_type": "code",
   "execution_count": 24,
   "metadata": {},
   "outputs": [
    {
     "data": {
      "text/plain": [
       "<matplotlib.collections.PathCollection at 0x7f4ea0251a10>"
      ]
     },
     "execution_count": 24,
     "metadata": {},
     "output_type": "execute_result"
    },
    {
     "data": {
      "image/png": "[encoded data removed]",
      "text/plain": [
       "<Figure size 432x288 with 1 Axes>"
      ]
     },
     "metadata": {
      "needs_background": "light"
     },
     "output_type": "display_data"
    }
   ],
   "source": [
    "# item_price \n",
    "x = sales_train['item_price']\n",
    "y = sales_train['date_block_num']\n",
    " \n",
    "# 散布図を描画\n",
    "plt.scatter(x, y)"
   ]
  },
  {
   "cell_type": "markdown",
   "execution_count": null,
   "metadata": {},
   "source": [
    "何か激しく外れている商品が存在する。"
   ]
  },
  {
   "cell_type": "code",
   "execution_count": 25,
   "metadata": {},
   "outputs": [
    {
     "name": "stdout",
     "output_type": "stream",
     "text": [
      "         date  date_block_num  shop_id  item_id  item_price  item_cnt_day  \\\n",
      "0  17.09.2013               8       12    11365     59200.0           1.0   \n",
      "1  13.12.2013              11       12     6066    307980.0           1.0   \n",
      "2  20.03.2014              14       25    13199     50999.0           1.0   \n",
      "\n",
      "                                 item_name  item_category_id  \n",
      "0                           Доставка (EMS)                 9  \n",
      "1                     Radmin 3  - 522 лиц.                75  \n",
      "2  Коллекционные шахматы (Властелин Колец)                69  \n"
     ]
    }
   ],
   "source": [
    "over = sales_train[sales_train['item_price'] > 50000 ]\n",
    "over_item = pd.merge(over, item, on='item_id', how='left')\n",
    "print(over_item )"
   ]
  },
  {
   "cell_type": "markdown",
   "execution_count": null,
   "metadata": {},
   "source": [
    "Radmin 3(VPNのソフト)  522日ライセンスらしい、\n",
    "item_priceが50000以上のアイテムはCVが1件のため除外してよいと思われる。"
   ]
  },
  {
   "cell_type": "markdown",
   "execution_count": null,
   "metadata": {},
   "source": [
    "# 周期性を確認してみる"
   ]
  },
  {
   "cell_type": "code",
   "execution_count": 26,
   "metadata": {},
   "outputs": [],
   "source": [
    "df = pd.merge(sales_train.sort_values(by='date'), item.drop('item_name', axis=1), on='item_id', how='left')"
   ]
  },
  {
   "cell_type": "code",
   "execution_count": 27,
   "metadata": {},
   "outputs": [
    {
     "data": {
      "image/png": "[encoded data removed]",
      "text/plain": [
       "<Figure size 720x720 with 6 Axes>"
      ]
     },
     "metadata": {
      "needs_background": "light"
     },
     "output_type": "display_data"
    }
   ],
   "source": [
    "from pylab import rcParams\n",
    "\n",
    "rcParams['figure.figsize'] = 10, 10\n",
    "df.hist()\n",
    "plt.tight_layout()\n",
    "plt.show()"
   ]
  },
  {
   "cell_type": "markdown",
   "execution_count": null,
   "metadata": {},
   "source": [
    "* 上記はレコード数単位であり、売上個数でないことに注意\n",
    "* data_block_num : 月日が経つにつれ売れているアイテムの種類は減少している。\n",
    "* item_category_id : カテゴリごとにバラつきがある\n",
    "* item_id : 0 ~ 10000番台のアイテムの登場回数が多い\n",
    "* shop_id : 店舗ごとに売り上げのバラつきがある"
   ]
  },
  {
   "cell_type": "markdown",
   "execution_count": null,
   "metadata": {},
   "source": [
    "# 売れているアイテム"
   ]
  },
  {
   "cell_type": "code",
   "execution_count": 28,
   "metadata": {},
   "outputs": [],
   "source": [
    "df_item = df[['item_id','item_cnt_day']].groupby(['item_id'])['item_cnt_day'].apply(np.sum)"
   ]
  },
  {
   "cell_type": "code",
   "execution_count": 29,
   "metadata": {},
   "outputs": [
    {
     "data": {
      "text/plain": [
       "item_id\n",
       "20949    187642.0\n",
       "2808      17245.0\n",
       "3732      16642.0\n",
       "17717     15830.0\n",
       "5822      14515.0\n",
       "Name: item_cnt_day, dtype: float64"
      ]
     },
     "execution_count": 29,
     "metadata": {},
     "output_type": "execute_result"
    }
   ],
   "source": [
    "df_item.sort_values(ascending=False).head()"
   ]
  },
  {
   "cell_type": "code",
   "execution_count": 30,
   "metadata": {},
   "outputs": [
    {
     "name": "stdout",
     "output_type": "stream",
     "text": [
      "                                               item_name  item_id  \\\n",
      "20949  Фирменный пакет майка 1С Интерес белый (34*42)...    20949   \n",
      "\n",
      "       item_category_id  \n",
      "20949                71  \n",
      "                                   item_name  item_id  item_category_id\n",
      "2808  Diablo III [PC, Jewel, русская версия]     2808                30\n",
      "                                       item_name  item_id  item_category_id\n",
      "3732  Grand Theft Auto V [PS3, русские субтитры]     3732                19\n",
      "                                  item_name  item_id  item_category_id\n",
      "17717  Прием денежных средств для 1С-Онлайн    17717                79\n",
      "                                              item_name  item_id  \\\n",
      "5822  Playstation Store пополнение бумажника: Карта ...     5822   \n",
      "\n",
      "      item_category_id  \n",
      "5822                35  \n"
     ]
    }
   ],
   "source": [
    "print(item[item['item_id'] == 20949]) #1CパッケージTシャツ1Cインタレストホワイト\n",
    "print(item[item['item_id'] == 2808])  #Diablo III (ゲーム)\n",
    "print(item[item['item_id'] == 3732])  #プレイステーションストアウォレット\n",
    "print(item[item['item_id'] == 17717]) #1C-Onlineの資金の受け入れ　課金？\n",
    "print(item[item['item_id'] == 5822])  #プレイステーションストアウォレット"
   ]
  },
  {
   "cell_type": "markdown",
   "execution_count": null,
   "metadata": {},
   "source": [
    "Tシャツ  \n",
    "ディアブロ  \n",
    "GTA  \n",
    "1C-Onlineの資金の受け入れ  課金？\n",
    "ゲームばっかでワロタ\n"
   ]
  },
  {
   "cell_type": "code",
   "execution_count": 31,
   "metadata": {},
   "outputs": [
    {
     "name": "stdout",
     "output_type": "stream",
     "text": [
      "                                          shop_name  shop_id\n",
      "0                     !Якутск Орджоникидзе, 56 фран        0\n",
      "1                     !Якутск ТЦ \"Центральный\" фран        1\n",
      "2                                  Адыгея ТЦ \"Мега\"        2\n",
      "3                    Балашиха ТРК \"Октябрь-Киномир\"        3\n",
      "4                          Волжский ТЦ \"Волга Молл\"        4\n",
      "5                            Вологда ТРЦ \"Мармелад\"        5\n",
      "6                        Воронеж (Плехановская, 13)        6\n",
      "7                            Воронеж ТРЦ \"Максимир\"        7\n",
      "8                      Воронеж ТРЦ Сити-Парк \"Град\"        8\n",
      "9                                 Выездная Торговля        9\n",
      "10                       Жуковский ул. Чкалова 39м?       10\n",
      "11                       Жуковский ул. Чкалова 39м²       11\n",
      "12                              Интернет-магазин ЧС       12\n",
      "13                              Казань ТЦ \"Бехетле\"       13\n",
      "14                          Казань ТЦ \"ПаркХаус\" II       14\n",
      "15                             Калуга ТРЦ \"XXI век\"       15\n",
      "16                                 Коломна ТЦ \"Рио\"       16\n",
      "17                    Красноярск ТЦ \"Взлетка Плаза\"       17\n",
      "18                             Красноярск ТЦ \"Июнь\"       18\n",
      "19                            Курск ТЦ \"Пушкинский\"       19\n",
      "20                              Москва \"Распродажа\"       20\n",
      "21                           Москва МТРЦ \"Афи Молл\"       21\n",
      "22                               Москва Магазин С21       22\n",
      "23                 Москва ТК \"Буденовский\" (пав.А2)       23\n",
      "24                 Москва ТК \"Буденовский\" (пав.К7)       24\n",
      "25                              Москва ТРК \"Атриум\"       25\n",
      "26                      Москва ТЦ \"Ареал\" (Беляево)       26\n",
      "27                   Москва ТЦ \"МЕГА Белая Дача II\"       27\n",
      "28                  Москва ТЦ \"МЕГА Теплый Стан\" II       28\n",
      "29               Москва ТЦ \"Новый век\" (Новокосино)       29\n",
      "30                           Москва ТЦ \"Перловский\"       30\n",
      "31                          Москва ТЦ \"Семеновский\"       31\n",
      "32                       Москва ТЦ \"Серебряный Дом\"       32\n",
      "33                                Мытищи ТРК \"XL-3\"       33\n",
      "34                             Н.Новгород ТРЦ \"РИО\"       34\n",
      "35                      Н.Новгород ТРЦ \"Фантастика\"       35\n",
      "36            Новосибирск ТРЦ \"Галерея Новосибирск\"       36\n",
      "37                            Новосибирск ТЦ \"Мега\"       37\n",
      "38                                   Омск ТЦ \"Мега\"       38\n",
      "39            РостовНаДону ТРК \"Мегацентр Горизонт\"       39\n",
      "40  РостовНаДону ТРК \"Мегацентр Горизонт\" Островной       40\n",
      "41                           РостовНаДону ТЦ \"Мега\"       41\n",
      "42                           СПб ТК \"Невский Центр\"       42\n",
      "43                                  СПб ТК \"Сенная\"       43\n",
      "44                              Самара ТЦ \"Мелодия\"       44\n",
      "45                             Самара ТЦ \"ПаркХаус\"       45\n",
      "46                            Сергиев Посад ТЦ \"7Я\"       46\n",
      "47                           Сургут ТРЦ \"Сити Молл\"       47\n",
      "48                     Томск ТРЦ \"Изумрудный Город\"       48\n",
      "49                            Тюмень ТРЦ \"Кристалл\"       49\n",
      "50                               Тюмень ТЦ \"Гудвин\"       50\n",
      "51                        Тюмень ТЦ \"Зеленый Берег\"       51\n",
      "52                             Уфа ТК \"Центральный\"       52\n",
      "53                                 Уфа ТЦ \"Семья\" 2       53\n",
      "54                                  Химки ТЦ \"Мега\"       54\n",
      "55                         Цифровой склад 1С-Онлайн       55\n",
      "56                             Чехов ТРЦ \"Карнавал\"       56\n",
      "57                          Якутск Орджоникидзе, 56       57\n",
      "58                          Якутск ТЦ \"Центральный\"       58\n",
      "59                           Ярославль ТЦ \"Альтаир\"       59\n"
     ]
    }
   ],
   "source": [
    "# shop の分析\n",
    "print(shop)"
   ]
  },
  {
   "cell_type": "markdown",
   "execution_count": null,
   "metadata": {},
   "source": [
    "店名の先頭は地名らしく、ある程度の共通がみられる。  \n",
    "Москва モスクワ  \n",
    "分かち書きすれば、新たな特徴量になるか？  "
   ]
  },
  {
   "cell_type": "markdown",
   "execution_count": null,
   "metadata": {},
   "source": [
    "以下重複しているっぽい  \n",
    "10                       Жуковский ул. Чкалова 39м?       10  \n",
    "11                       Жуковский ул. Чкалова 39м²       11  \n",
    "\n",
    "0                     !Якутск Орджоникидзе, 56 фран        0  \n",
    "57                          Якутск Орджоникидзе, 56       57  \n",
    "\n",
    "\n",
    "1                     !Якутск ТЦ \"Центральный\" фран        1  \n",
    "58                          Якутск ТЦ \"Центральный\"       58  \n",
    "\n",
    "\n"
   ]
  },
  {
   "cell_type": "code",
   "execution_count": 32,
   "metadata": {},
   "outputs": [
    {
     "data": {
      "text/plain": [
       "Москва              13\n",
       "РостовНаДону         3\n",
       "Воронеж              3\n",
       "Тюмень               3\n",
       "Уфа                  2\n",
       "Казань               2\n",
       "Якутск               2\n",
       "Жуковский            2\n",
       "Красноярск           2\n",
       "!Якутск              2\n",
       "Новосибирск          2\n",
       "Н.Новгород           2\n",
       "СПб                  2\n",
       "Самара               2\n",
       "Интернет-магазин     1\n",
       "Сергиев              1\n",
       "Калуга               1\n",
       "Коломна              1\n",
       "Химки                1\n",
       "Чехов                1\n",
       "Мытищи               1\n",
       "Томск                1\n",
       "Цифровой             1\n",
       "Омск                 1\n",
       "Выездная             1\n",
       "Вологда              1\n",
       "Адыгея               1\n",
       "Волжский             1\n",
       "Сургут               1\n",
       "Курск                1\n",
       "Ярославль            1\n",
       "Балашиха             1\n",
       "Name: city, dtype: int64"
      ]
     },
     "execution_count": 32,
     "metadata": {},
     "output_type": "execute_result"
    }
   ],
   "source": [
    "shop['city'] = shop['shop_name'].str.split(' ').map(lambda x: x[0])\n",
    "shop['city'].value_counts(dropna=False)"
   ]
  },
  {
   "cell_type": "markdown",
   "execution_count": null,
   "metadata": {},
   "source": [
    "重複あり\n",
    "Якутск               2\n",
    "!Якутск              2"
   ]
  },
  {
   "cell_type": "markdown",
   "execution_count": null,
   "metadata": {},
   "source": [
    "# item "
   ]
  },
  {
   "cell_type": "code",
   "execution_count": 33,
   "metadata": {},
   "outputs": [
    {
     "data": {
      "text/html": [
       "<div>\n",
       "<style scoped>\n",
       "    .dataframe tbody tr th:only-of-type {\n",
       "        vertical-align: middle;\n",
       "    }\n",
       "\n",
       "    .dataframe tbody tr th {\n",
       "        vertical-align: top;\n",
       "    }\n",
       "\n",
       "    .dataframe thead th {\n",
       "        text-align: right;\n",
       "    }\n",
       "</style>\n",
       "<table border=\"1\" class=\"dataframe\">\n",
       "  <thead>\n",
       "    <tr style=\"text-align: right;\">\n",
       "      <th></th>\n",
       "      <th>item_name</th>\n",
       "      <th>item_id</th>\n",
       "      <th>item_category_id</th>\n",
       "    </tr>\n",
       "  </thead>\n",
       "  <tbody>\n",
       "    <tr>\n",
       "      <th>0</th>\n",
       "      <td>! ВО ВЛАСТИ НАВАЖДЕНИЯ (ПЛАСТ.)         D</td>\n",
       "      <td>0</td>\n",
       "      <td>40</td>\n",
       "    </tr>\n",
       "    <tr>\n",
       "      <th>1</th>\n",
       "      <td>!ABBYY FineReader 12 Professional Edition Full...</td>\n",
       "      <td>1</td>\n",
       "      <td>76</td>\n",
       "    </tr>\n",
       "    <tr>\n",
       "      <th>2</th>\n",
       "      <td>***В ЛУЧАХ СЛАВЫ   (UNV)                    D</td>\n",
       "      <td>2</td>\n",
       "      <td>40</td>\n",
       "    </tr>\n",
       "    <tr>\n",
       "      <th>3</th>\n",
       "      <td>***ГОЛУБАЯ ВОЛНА  (Univ)                      D</td>\n",
       "      <td>3</td>\n",
       "      <td>40</td>\n",
       "    </tr>\n",
       "    <tr>\n",
       "      <th>4</th>\n",
       "      <td>***КОРОБКА (СТЕКЛО)                       D</td>\n",
       "      <td>4</td>\n",
       "      <td>40</td>\n",
       "    </tr>\n",
       "  </tbody>\n",
       "</table>\n",
       "</div>"
      ],
      "text/plain": [
       "                                           item_name  item_id  \\\n",
       "0          ! ВО ВЛАСТИ НАВАЖДЕНИЯ (ПЛАСТ.)         D        0   \n",
       "1  !ABBYY FineReader 12 Professional Edition Full...        1   \n",
       "2      ***В ЛУЧАХ СЛАВЫ   (UNV)                    D        2   \n",
       "3    ***ГОЛУБАЯ ВОЛНА  (Univ)                      D        3   \n",
       "4        ***КОРОБКА (СТЕКЛО)                       D        4   \n",
       "\n",
       "   item_category_id  \n",
       "0                40  \n",
       "1                76  \n",
       "2                40  \n",
       "3                40  \n",
       "4                40  "
      ]
     },
     "execution_count": 33,
     "metadata": {},
     "output_type": "execute_result"
    }
   ],
   "source": [
    "#item\n",
    "item.head()"
   ]
  },
  {
   "cell_type": "markdown",
   "execution_count": null,
   "metadata": {},
   "source": [
    "# item_category"
   ]
  },
  {
   "cell_type": "code",
   "execution_count": 34,
   "metadata": {},
   "outputs": [
    {
     "data": {
      "text/html": [
       "<div>\n",
       "<style scoped>\n",
       "    .dataframe tbody tr th:only-of-type {\n",
       "        vertical-align: middle;\n",
       "    }\n",
       "\n",
       "    .dataframe tbody tr th {\n",
       "        vertical-align: top;\n",
       "    }\n",
       "\n",
       "    .dataframe thead th {\n",
       "        text-align: right;\n",
       "    }\n",
       "</style>\n",
       "<table border=\"1\" class=\"dataframe\">\n",
       "  <thead>\n",
       "    <tr style=\"text-align: right;\">\n",
       "      <th></th>\n",
       "      <th>item_category_name</th>\n",
       "      <th>item_category_id</th>\n",
       "    </tr>\n",
       "  </thead>\n",
       "  <tbody>\n",
       "    <tr>\n",
       "      <th>0</th>\n",
       "      <td>PC - Гарнитуры/Наушники</td>\n",
       "      <td>0</td>\n",
       "    </tr>\n",
       "    <tr>\n",
       "      <th>1</th>\n",
       "      <td>Аксессуары - PS2</td>\n",
       "      <td>1</td>\n",
       "    </tr>\n",
       "    <tr>\n",
       "      <th>2</th>\n",
       "      <td>Аксессуары - PS3</td>\n",
       "      <td>2</td>\n",
       "    </tr>\n",
       "    <tr>\n",
       "      <th>3</th>\n",
       "      <td>Аксессуары - PS4</td>\n",
       "      <td>3</td>\n",
       "    </tr>\n",
       "    <tr>\n",
       "      <th>4</th>\n",
       "      <td>Аксессуары - PSP</td>\n",
       "      <td>4</td>\n",
       "    </tr>\n",
       "  </tbody>\n",
       "</table>\n",
       "</div>"
      ],
      "text/plain": [
       "        item_category_name  item_category_id\n",
       "0  PC - Гарнитуры/Наушники                 0\n",
       "1         Аксессуары - PS2                 1\n",
       "2         Аксессуары - PS3                 2\n",
       "3         Аксессуары - PS4                 3\n",
       "4         Аксессуары - PSP                 4"
      ]
     },
     "execution_count": 34,
     "metadata": {},
     "output_type": "execute_result"
    }
   ],
   "source": [
    "#item_categories\n",
    "item_categories.head()"
   ]
  },
  {
   "cell_type": "markdown",
   "execution_count": null,
   "metadata": {},
   "source": [
    "-で分かち書きできそう"
   ]
  },
  {
   "cell_type": "code",
   "execution_count": 35,
   "metadata": {},
   "outputs": [],
   "source": [
    "ic = item_categories['item_category_name'].str.split('-')"
   ]
  },
  {
   "cell_type": "code",
   "execution_count": 36,
   "metadata": {},
   "outputs": [
    {
     "name": "stdout",
     "output_type": "stream",
     "text": [
      "0                      [PC ,  Гарнитуры/Наушники]\n",
      "1                             [Аксессуары ,  PS2]\n",
      "2                             [Аксессуары ,  PS3]\n",
      "3                             [Аксессуары ,  PS4]\n",
      "4                             [Аксессуары ,  PSP]\n",
      "5                          [Аксессуары ,  PSVita]\n",
      "6                        [Аксессуары ,  XBOX 360]\n",
      "7                        [Аксессуары ,  XBOX ONE]\n",
      "8                                [Билеты (Цифра)]\n",
      "9                               [Доставка товара]\n",
      "10                       [Игровые консоли ,  PS2]\n",
      "11                       [Игровые консоли ,  PS3]\n",
      "12                       [Игровые консоли ,  PS4]\n",
      "13                       [Игровые консоли ,  PSP]\n",
      "14                    [Игровые консоли ,  PSVita]\n",
      "15                  [Игровые консоли ,  XBOX 360]\n",
      "16                  [Игровые консоли ,  XBOX ONE]\n",
      "17                    [Игровые консоли ,  Прочие]\n",
      "18                                  [Игры ,  PS2]\n",
      "19                                  [Игры ,  PS3]\n",
      "20                                  [Игры ,  PS4]\n",
      "21                                  [Игры ,  PSP]\n",
      "22                               [Игры ,  PSVita]\n",
      "23                             [Игры ,  XBOX 360]\n",
      "24                             [Игры ,  XBOX ONE]\n",
      "25                   [Игры ,  Аксессуары для игр]\n",
      "26                        [Игры Android ,  Цифра]\n",
      "27                            [Игры MAC ,  Цифра]\n",
      "28            [Игры PC ,  Дополнительные издания]\n",
      "29             [Игры PC ,  Коллекционные издания]\n",
      "30               [Игры PC ,  Стандартные издания]\n",
      "31                             [Игры PC ,  Цифра]\n",
      "32            [Карты оплаты (Кино, Музыка, Игры)]\n",
      "33                        [Карты оплаты ,  Live!]\n",
      "34                [Карты оплаты ,  Live! (Цифра)]\n",
      "35                          [Карты оплаты ,  PSN]\n",
      "36              [Карты оплаты ,  Windows (Цифра)]\n",
      "37                             [Кино ,  Blu, Ray]\n",
      "38                          [Кино ,  Blu, Ray 3D]\n",
      "39                          [Кино ,  Blu, Ray 4K]\n",
      "40                                  [Кино ,  DVD]\n",
      "41                        [Кино ,  Коллекционное]\n",
      "42               [Книги ,  Артбуки, энциклопедии]\n",
      "43                          [Книги ,  Аудиокниги]\n",
      "44                  [Книги ,  Аудиокниги (Цифра)]\n",
      "45                       [Книги ,  Аудиокниги 1С]\n",
      "46                   [Книги ,  Бизнес литература]\n",
      "47                      [Книги ,  Комиксы, манга]\n",
      "48             [Книги ,  Компьютерная литература]\n",
      "49           [Книги ,  Методические материалы 1С]\n",
      "50                            [Книги ,  Открытки]\n",
      "51           [Книги ,  Познавательная литература]\n",
      "52                        [Книги ,  Путеводители]\n",
      "53           [Книги ,  Художественная литература]\n",
      "54                               [Книги ,  Цифра]\n",
      "55         [Музыка ,  CD локального производства]\n",
      "56         [Музыка ,  CD фирменного производства]\n",
      "57                                [Музыка ,  MP3]\n",
      "58                              [Музыка ,  Винил]\n",
      "59                  [Музыка ,  Музыкальное видео]\n",
      "60                 [Музыка ,  Подарочные издания]\n",
      "61                        [Подарки ,  Атрибутика]\n",
      "62            [Подарки ,  Гаджеты, роботы, спорт]\n",
      "63                    [Подарки ,  Мягкие игрушки]\n",
      "64                   [Подарки ,  Настольные игры]\n",
      "65      [Подарки ,  Настольные игры (компактные)]\n",
      "66                [Подарки ,  Открытки, наклейки]\n",
      "67                          [Подарки ,  Развитие]\n",
      "68               [Подарки ,  Сертификаты, услуги]\n",
      "69                          [Подарки ,  Сувениры]\n",
      "70              [Подарки ,  Сувениры (в навеску)]\n",
      "71    [Подарки ,  Сумки, Альбомы, Коврики д/мыши]\n",
      "72                           [Подарки ,  Фигурки]\n",
      "73                [Программы ,  1С:Предприятие 8]\n",
      "74                     [Программы ,  MAC (Цифра)]\n",
      "75                [Программы ,  Для дома и офиса]\n",
      "76        [Программы ,  Для дома и офиса (Цифра)]\n",
      "77                       [Программы ,  Обучающие]\n",
      "78               [Программы ,  Обучающие (Цифра)]\n",
      "79                                    [Служебные]\n",
      "80                          [Служебные ,  Билеты]\n",
      "81                      [Чистые носители (шпиль)]\n",
      "82                    [Чистые носители (штучные)]\n",
      "83                             [Элементы питания]\n",
      "Name: item_category_name, dtype: object\n"
     ]
    }
   ],
   "source": [
    "print(ic)"
   ]
  },
  {
   "cell_type": "markdown",
   "execution_count": null,
   "metadata": {},
   "source": [
    "* 要素が2以上のものが存在している。うまくまとめられるか？"
   ]
  },
  {
   "cell_type": "code",
   "execution_count": 37,
   "metadata": {},
   "outputs": [
    {
     "name": "stdout",
     "output_type": "stream",
     "text": [
      "    item_category_id  item_type  item_subtype\n",
      "0                  0          0            29\n",
      "1                  1          1             9\n",
      "2                  2          1            10\n",
      "3                  3          1            11\n",
      "4                  4          1            13\n",
      "5                  5          1            14\n",
      "6                  6          1            16\n",
      "7                  7          1            17\n",
      "8                  8          2            26\n",
      "9                  9          3            33\n",
      "10                10          4             9\n",
      "11                11          4            10\n",
      "12                12          4            11\n",
      "13                13          4            13\n",
      "14                14          4            14\n",
      "15                15          4            16\n",
      "16                16          4            17\n",
      "17                17          4            50\n",
      "18                18          5             9\n",
      "19                19          5            10\n",
      "20                20          5            11\n",
      "21                21          5            13\n",
      "22                22          5            14\n",
      "23                23          5            16\n",
      "24                24          5            17\n",
      "25                25          5            18\n",
      "26                26          6            61\n",
      "27                27          7            61\n",
      "28                28          8            32\n",
      "29                29          8            36\n",
      "30                30          8            55\n",
      "31                31          8            61\n",
      "32                32         10            34\n",
      "33                33          9             5\n",
      "34                34          9             6\n",
      "35                35          9            12\n",
      "36                36          9            15\n",
      "37                37         11             1\n",
      "38                38         11             1\n",
      "39                39         11             1\n",
      "40                40         11             4\n",
      "41                41         11            35\n",
      "42                42         12            19\n",
      "43                43         12            21\n",
      "44                44         12            22\n",
      "45                45         12            23\n",
      "46                46         12            24\n",
      "47                47         12            37\n",
      "48                48         12            38\n",
      "49                49         12            39\n",
      "50                50         12            46\n",
      "51                51         12            49\n",
      "52                52         12            51\n",
      "53                53         12            60\n",
      "54                54         12            61\n",
      "55                55         13             2\n",
      "56                56         13             3\n",
      "57                57         13             8\n",
      "58                58         13            27\n",
      "59                59         13            40\n",
      "60                60         13            48\n",
      "61                61         14            20\n",
      "62                62         14            28\n",
      "63                63         14            41\n",
      "64                64         14            42\n",
      "65                65         14            43\n",
      "66                66         14            47\n",
      "67                67         14            52\n",
      "68                68         14            53\n",
      "69                69         14            56\n",
      "70                70         14            57\n",
      "71                71         14            58\n",
      "72                72         14            59\n",
      "73                73         15             0\n",
      "74                74         15             7\n",
      "75                75         15            30\n",
      "76                76         15            31\n",
      "77                77         15            44\n",
      "78                78         15            45\n",
      "79                79         16            54\n",
      "80                80         16            25\n",
      "81                81         17            62\n",
      "82                82         18            63\n",
      "83                83         19            64\n"
     ]
    }
   ],
   "source": [
    "from sklearn.preprocessing import LabelEncoder\n",
    "\n",
    "item_categories['split'] = item_categories['item_category_name'].str.split('-')\n",
    "item_categories['first'] = item_categories['split'].map(lambda x: x[0].strip())\n",
    "item_categories['item_type'] = LabelEncoder().fit_transform(item_categories['first'])\n",
    "\n",
    "item_categories['other'] = item_categories['split'].map(lambda x: x[1].strip() if len(x) > 1 else x[0].strip())\n",
    "item_categories['item_subtype'] = LabelEncoder().fit_transform(item_categories['other'])\n",
    "item_categories = item_categories[['item_category_id','item_type', 'item_subtype']]\n",
    "\n",
    "print(item_categories)"
   ]
  },
  {
   "cell_type": "markdown",
   "execution_count": null,
   "metadata": {},
   "source": [
    "アイテムカテゴリについては上手く分割できそうである。"
   ]
  },
  {
   "cell_type": "markdown",
   "execution_count": null,
   "metadata": {},
   "source": [
    "# まとめ\n",
    "## sales_train\n",
    "* item_cnt_dayに外れ値が存在する。1日2000以上のアイテムは除外しても問題なさそう。\n",
    "* item_priceに外れ値が存在する。priceが50000以上のアイテムは除外しても問題なさそう。\n",
    "\n",
    "\n",
    "## shop \n",
    "* 店舗に重複が存在する。\n",
    "* shop_nameから、都市の特徴量が作れる。\n",
    "\n",
    "\n",
    "## item_category\n",
    "* item_categoryのitem_category_nameから、細かい粒度のアイテムの種別が作れる。"
   ]
  }
 ],
 "metadata": {
  "kernelspec": {
   "display_name": "Python 3",
   "language": "python",
   "name": "python3"
  },
  "language_info": {
   "codemirror_mode": {
    "name": "ipython",
    "version": 3
   },
   "file_extension": ".py",
   "mimetype": "text/x-python",
   "name": "python",
   "nbconvert_exporter": "python",
   "pygments_lexer": "ipython3",
   "version": "3.7.6"
  }
 },
 "nbformat": 4,
 "nbformat_minor": 4
}
