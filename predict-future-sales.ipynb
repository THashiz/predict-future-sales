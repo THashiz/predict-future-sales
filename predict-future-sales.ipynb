{
 "cells": [
  {
   "cell_type": "code",
   "execution_count": 1,
   "metadata": {
    "execution": {
     "iopub.execute_input": "2020-08-30T00:45:49.490986Z",
     "iopub.status.busy": "2020-08-30T00:45:49.490177Z",
     "iopub.status.idle": "2020-08-30T00:45:51.639827Z",
     "shell.execute_reply": "2020-08-30T00:45:51.639003Z"
    },
    "papermill": {
     "duration": 2.174221,
     "end_time": "2020-08-30T00:45:51.640004",
     "exception": false,
     "start_time": "2020-08-30T00:45:49.465783",
     "status": "completed"
    },
    "tags": []
   },
   "outputs": [],
   "source": [
    "import numpy as np # linear algebra\n",
    "import pandas as pd # data processing, CSV file I/O (e.g. pd.read_csv)\n",
    "import lightgbm as lgb\n",
    "import optuna.integration.lightgbm as opt_lgb\n",
    "\n",
    "from sklearn.preprocessing import OrdinalEncoder\n",
    "from sklearn.preprocessing import OneHotEncoder\n",
    "from sklearn.preprocessing import LabelEncoder\n",
    "from sklearn.metrics import mean_squared_error\n",
    "from matplotlib import pyplot as plt\n",
    "from itertools import product"
   ]
  },
  {
   "cell_type": "code",
   "execution_count": 2,
   "metadata": {
    "execution": {
     "iopub.execute_input": "2020-08-30T00:45:51.676131Z",
     "iopub.status.busy": "2020-08-30T00:45:51.675202Z",
     "iopub.status.idle": "2020-08-30T00:45:51.677909Z",
     "shell.execute_reply": "2020-08-30T00:45:51.678439Z"
    },
    "papermill": {
     "duration": 0.023596,
     "end_time": "2020-08-30T00:45:51.678656",
     "exception": false,
     "start_time": "2020-08-30T00:45:51.655060",
     "status": "completed"
    },
    "tags": []
   },
   "outputs": [],
   "source": [
    "pd.set_option('display.max_columns', 100)\n",
    "pd.set_option('display.max_rows', 1000)"
   ]
  },
  {
   "cell_type": "code",
   "execution_count": 3,
   "metadata": {
    "_cell_guid": "b1076dfc-b9ad-4769-8c92-a6c4dae69d19",
    "_uuid": "8f2839f25d086af736a60e9eeb907d3b93b6e0e5",
    "execution": {
     "iopub.execute_input": "2020-08-30T00:45:51.715521Z",
     "iopub.status.busy": "2020-08-30T00:45:51.714356Z",
     "iopub.status.idle": "2020-08-30T00:45:51.735073Z",
     "shell.execute_reply": "2020-08-30T00:45:51.732234Z"
    },
    "papermill": {
     "duration": 0.041805,
     "end_time": "2020-08-30T00:45:51.735211",
     "exception": false,
     "start_time": "2020-08-30T00:45:51.693406",
     "status": "completed"
    },
    "tags": []
   },
   "outputs": [
    {
     "name": "stdout",
     "output_type": "stream",
     "text": [
      "/kaggle/input/competitive-data-science-predict-future-sales/sample_submission.csv\n",
      "/kaggle/input/competitive-data-science-predict-future-sales/shops.csv\n",
      "/kaggle/input/competitive-data-science-predict-future-sales/items.csv\n",
      "/kaggle/input/competitive-data-science-predict-future-sales/item_categories.csv\n",
      "/kaggle/input/competitive-data-science-predict-future-sales/sales_train.csv\n",
      "/kaggle/input/competitive-data-science-predict-future-sales/test.csv\n"
     ]
    }
   ],
   "source": [
    "import os\n",
    "for dirname, _, filenames in os.walk('/kaggle/input'):\n",
    "    for filename in filenames:\n",
    "        print(os.path.join(dirname, filename))"
   ]
  },
  {
   "cell_type": "code",
   "execution_count": 4,
   "metadata": {
    "_cell_guid": "79c7e3d0-c299-4dcb-8224-4455121ee9b0",
    "_uuid": "d629ff2d2480ee46fbb7e2d37f6b5fab8052498a",
    "execution": {
     "iopub.execute_input": "2020-08-30T00:45:51.785996Z",
     "iopub.status.busy": "2020-08-30T00:45:51.785027Z",
     "iopub.status.idle": "2020-08-30T00:45:54.319107Z",
     "shell.execute_reply": "2020-08-30T00:45:54.318290Z"
    },
    "papermill": {
     "duration": 2.562174,
     "end_time": "2020-08-30T00:45:54.319252",
     "exception": false,
     "start_time": "2020-08-30T00:45:51.757078",
     "status": "completed"
    },
    "tags": []
   },
   "outputs": [],
   "source": [
    "shop = pd.read_csv('/kaggle/input/competitive-data-science-predict-future-sales/shops.csv')\n",
    "item = pd.read_csv('/kaggle/input/competitive-data-science-predict-future-sales/items.csv')\n",
    "item_categories = pd.read_csv('/kaggle/input/competitive-data-science-predict-future-sales/item_categories.csv')\n",
    "sales_train = pd.read_csv('/kaggle/input/competitive-data-science-predict-future-sales/sales_train.csv')\n",
    "test = pd.read_csv('/kaggle/input/competitive-data-science-predict-future-sales/test.csv')"
   ]
  },
  {
   "cell_type": "markdown",
   "execution_count": null,
   "metadata": {
    "papermill": {
     "duration": 0.019977,
     "end_time": "2020-08-30T00:45:54.359339",
     "exception": false,
     "start_time": "2020-08-30T00:45:54.339362",
     "status": "completed"
    },
    "tags": []
   },
   "source": [
    "## 学習データ作成"
   ]
  },
  {
   "cell_type": "code",
   "execution_count": 5,
   "metadata": {
    "execution": {
     "iopub.execute_input": "2020-08-30T00:45:54.411511Z",
     "iopub.status.busy": "2020-08-30T00:45:54.410691Z",
     "iopub.status.idle": "2020-08-30T00:45:54.519049Z",
     "shell.execute_reply": "2020-08-30T00:45:54.518410Z"
    },
    "papermill": {
     "duration": 0.139854,
     "end_time": "2020-08-30T00:45:54.519187",
     "exception": false,
     "start_time": "2020-08-30T00:45:54.379333",
     "status": "completed"
    },
    "tags": []
   },
   "outputs": [],
   "source": [
    "#店舗の重複を除外\n",
    "sales_train.loc[sales_train['shop_id'] == 0, 'shop_id'] = 57\n",
    "test.loc[test['shop_id'] == 0, 'shop_id'] = 57\n",
    "\n",
    "sales_train.loc[sales_train['shop_id'] == 1, 'shop_id'] = 58\n",
    "test.loc[test['shop_id'] == 1, 'shop_id'] = 58\n",
    "\n",
    "sales_train.loc[sales_train['shop_id'] == 11, 'shop_id'] = 10\n",
    "test.loc[test['shop_id'] == 11, 'shop_id'] = 10\n"
   ]
  },
  {
   "cell_type": "code",
   "execution_count": 6,
   "metadata": {
    "execution": {
     "iopub.execute_input": "2020-08-30T00:45:54.567588Z",
     "iopub.status.busy": "2020-08-30T00:45:54.566693Z",
     "iopub.status.idle": "2020-08-30T00:45:54.880180Z",
     "shell.execute_reply": "2020-08-30T00:45:54.879418Z"
    },
    "papermill": {
     "duration": 0.339542,
     "end_time": "2020-08-30T00:45:54.880320",
     "exception": false,
     "start_time": "2020-08-30T00:45:54.540778",
     "status": "completed"
    },
    "tags": []
   },
   "outputs": [],
   "source": [
    "#外れ値を除外\n",
    "sales_train = sales_train[sales_train['item_price'] <= 50000 ]\n",
    "sales_train = sales_train[sales_train['item_cnt_day'] <= 1000 ]"
   ]
  },
  {
   "cell_type": "code",
   "execution_count": 7,
   "metadata": {
    "execution": {
     "iopub.execute_input": "2020-08-30T00:45:54.933204Z",
     "iopub.status.busy": "2020-08-30T00:45:54.932330Z",
     "iopub.status.idle": "2020-08-30T00:46:17.256121Z",
     "shell.execute_reply": "2020-08-30T00:46:17.255453Z"
    },
    "papermill": {
     "duration": 22.355237,
     "end_time": "2020-08-30T00:46:17.256268",
     "exception": false,
     "start_time": "2020-08-30T00:45:54.901031",
     "status": "completed"
    },
    "tags": []
   },
   "outputs": [],
   "source": [
    "# 月単位に集約する\n",
    "df = []\n",
    "cols = ['date_block_num','shop_id','item_id']\n",
    "for i in range(34):\n",
    "    sales = sales_train[sales_train['date_block_num'] == i]\n",
    "    df.append(np.array(list(product([i], sales['shop_id'].unique(), sales['item_id'].unique())), dtype='int16'))\n",
    "# 負例\n",
    "#    df.append(np.array(list(product([i], shop['shop_id'].unique(), item['item_id'].unique())), dtype='int16'))\n",
    "    \n",
    "df = pd.DataFrame(np.vstack(df), columns=cols)\n",
    "df['date_block_num'] = df['date_block_num'].astype(np.int8)\n",
    "df['shop_id'] = df['shop_id'].astype(np.int8)\n",
    "df['item_id'] = df['item_id'].astype(np.int16)\n",
    "df.sort_values(cols,inplace=True)"
   ]
  },
  {
   "cell_type": "code",
   "execution_count": 8,
   "metadata": {
    "execution": {
     "iopub.execute_input": "2020-08-30T00:46:17.308643Z",
     "iopub.status.busy": "2020-08-30T00:46:17.307103Z",
     "iopub.status.idle": "2020-08-30T00:46:17.526442Z",
     "shell.execute_reply": "2020-08-30T00:46:17.525659Z"
    },
    "papermill": {
     "duration": 0.250029,
     "end_time": "2020-08-30T00:46:17.526575",
     "exception": false,
     "start_time": "2020-08-30T00:46:17.276546",
     "status": "completed"
    },
    "tags": []
   },
   "outputs": [],
   "source": [
    "# 学習データとテストデータを結合する\n",
    "test_tmp = test\n",
    "test_tmp.insert(0, 'date_block_num', 34)\n",
    "\n",
    "test_tmp['date_block_num'] = test_tmp['date_block_num'].astype(np.int8)\n",
    "test_tmp['shop_id'] = test_tmp['shop_id'].astype(np.int8)\n",
    "test_tmp['item_id'] = test_tmp['item_id'].astype(np.int16)\n",
    "\n",
    "df = pd.concat([df, test_tmp])\n",
    "df['ID'] = df['ID'].fillna(0).astype(np.int32)\n"
   ]
  },
  {
   "cell_type": "code",
   "execution_count": 9,
   "metadata": {
    "execution": {
     "iopub.execute_input": "2020-08-30T00:46:17.577084Z",
     "iopub.status.busy": "2020-08-30T00:46:17.575994Z",
     "iopub.status.idle": "2020-08-30T00:46:17.582371Z",
     "shell.execute_reply": "2020-08-30T00:46:17.581603Z"
    },
    "papermill": {
     "duration": 0.035915,
     "end_time": "2020-08-30T00:46:17.582509",
     "exception": false,
     "start_time": "2020-08-30T00:46:17.546594",
     "status": "completed"
    },
    "tags": []
   },
   "outputs": [
    {
     "name": "stdout",
     "output_type": "stream",
     "text": [
      "        date_block_num  shop_id  item_id      ID\n",
      "114910               0        2       19       0\n",
      "117150               0        2       27       0\n",
      "120623               0        2       28       0\n",
      "118316               0        2       29       0\n",
      "114602               0        2       32       0\n",
      "...                ...      ...      ...     ...\n",
      "214195              34       45    18454  214195\n",
      "214196              34       45    16188  214196\n",
      "214197              34       45    15757  214197\n",
      "214198              34       45    19648  214198\n",
      "214199              34       45      969  214199\n",
      "\n",
      "[11127956 rows x 4 columns]\n"
     ]
    }
   ],
   "source": [
    "print(df)"
   ]
  },
  {
   "cell_type": "code",
   "execution_count": 10,
   "metadata": {
    "execution": {
     "iopub.execute_input": "2020-08-30T00:46:17.633479Z",
     "iopub.status.busy": "2020-08-30T00:46:17.632480Z",
     "iopub.status.idle": "2020-08-30T00:46:23.993085Z",
     "shell.execute_reply": "2020-08-30T00:46:23.992250Z"
    },
    "papermill": {
     "duration": 6.390626,
     "end_time": "2020-08-30T00:46:23.993233",
     "exception": false,
     "start_time": "2020-08-30T00:46:17.602607",
     "status": "completed"
    },
    "tags": []
   },
   "outputs": [],
   "source": [
    "# 予測対象となるitem_cnt_monthを生成する\n",
    "## date_block_num単位に集計、item_cnt_monthをClipする\n",
    "group = sales_train.groupby(['date_block_num','shop_id','item_id']).agg({'item_cnt_day': ['sum']})\n",
    "group.columns = ['item_cnt_month']\n",
    "group.reset_index(inplace=True)\n",
    "\n",
    "df = pd.merge(df, group, on=['date_block_num','shop_id','item_id'], how='left')\n",
    "df['item_cnt_month'] = (df['item_cnt_month'].fillna(0).clip(0,20).astype(np.float16))"
   ]
  },
  {
   "cell_type": "code",
   "execution_count": 11,
   "metadata": {
    "execution": {
     "iopub.execute_input": "2020-08-30T00:46:24.048836Z",
     "iopub.status.busy": "2020-08-30T00:46:24.047950Z",
     "iopub.status.idle": "2020-08-30T00:46:32.070809Z",
     "shell.execute_reply": "2020-08-30T00:46:32.071657Z"
    },
    "papermill": {
     "duration": 8.058254,
     "end_time": "2020-08-30T00:46:32.071931",
     "exception": false,
     "start_time": "2020-08-30T00:46:24.013677",
     "status": "completed"
    },
    "tags": []
   },
   "outputs": [
    {
     "name": "stdout",
     "output_type": "stream",
     "text": [
      "         date_block_num  month\n",
      "0                     0      1\n",
      "115690                1      2\n",
      "224303                2      3\n",
      "345650                3      4\n",
      "439759                4      5\n",
      "531518                5      6\n",
      "631921                6      7\n",
      "732469                7      8\n",
      "837241                8      9\n",
      "933378                9     10\n",
      "1027580              10     11\n",
      "1124316              11     12\n",
      "1267562              12      1\n",
      "1366911              13      2\n",
      "1456741              14      3\n",
      "1549474              15      4\n",
      "1627380              16      5\n",
      "1705909              17      6\n",
      "1788317              18      7\n",
      "1867077              19      8\n",
      "1953691              20      9\n",
      "2026848              21     10\n",
      "2106209              22     11\n",
      "2192637              23     12\n",
      "2323423              24      1\n",
      "2411945              25      2\n",
      "2483753              26      3\n",
      "2553730              27      4\n",
      "2610004              28      5\n",
      "2664552              29      6\n",
      "2719169              30      7\n",
      "2774718              31      8\n",
      "2831747              32      9\n",
      "2882335              33     10\n"
     ]
    }
   ],
   "source": [
    "# month を切り出す\n",
    "month = sales_train.loc[:,['date_block_num','date']]\n",
    "month['month'] = month['date'].str.split('.').map(lambda x: x[1]).astype(np.int8)\n",
    "\n",
    "month = month.loc[:,['date_block_num','month']].drop_duplicates()\n",
    "print(month)"
   ]
  },
  {
   "cell_type": "code",
   "execution_count": 12,
   "metadata": {
    "execution": {
     "iopub.execute_input": "2020-08-30T00:46:32.127650Z",
     "iopub.status.busy": "2020-08-30T00:46:32.126468Z",
     "iopub.status.idle": "2020-08-30T00:46:33.822256Z",
     "shell.execute_reply": "2020-08-30T00:46:33.820730Z"
    },
    "papermill": {
     "duration": 1.728448,
     "end_time": "2020-08-30T00:46:33.822458",
     "exception": false,
     "start_time": "2020-08-30T00:46:32.094010",
     "status": "completed"
    },
    "tags": []
   },
   "outputs": [
    {
     "name": "stdout",
     "output_type": "stream",
     "text": [
      "        date_block_num  item_id  item_cnt_month_avg\n",
      "0                    0       19            0.022217\n",
      "1                    0       27            0.155518\n",
      "2                    0       28            0.177734\n",
      "3                    0       29            0.088867\n",
      "4                    0       32            5.378906\n",
      "...                ...      ...                 ...\n",
      "239005              34    22162            0.000000\n",
      "239006              34    22163            0.000000\n",
      "239007              34    22164            0.000000\n",
      "239008              34    22166            0.000000\n",
      "239009              34    22167            0.000000\n",
      "\n",
      "[239010 rows x 3 columns]\n"
     ]
    }
   ],
   "source": [
    "#アイテムごとにitem_cnt_monthの平均値作成\n",
    "item_cnt_month_avg = df.groupby(['date_block_num','item_id']).agg({'item_cnt_month': ['mean']})\n",
    "item_cnt_month_avg.columns = ['item_cnt_month_avg']\n",
    "item_cnt_month_avg.reset_index(inplace=True)\n",
    "\n",
    "item_cnt_month_avg['item_cnt_month_avg'] = (item_cnt_month_avg['item_cnt_month_avg'].fillna(0).astype(np.float16))\n",
    "\n",
    "print(item_cnt_month_avg)"
   ]
  },
  {
   "cell_type": "code",
   "execution_count": 13,
   "metadata": {
    "execution": {
     "iopub.execute_input": "2020-08-30T00:46:33.873892Z",
     "iopub.status.busy": "2020-08-30T00:46:33.873044Z",
     "iopub.status.idle": "2020-08-30T00:46:34.929035Z",
     "shell.execute_reply": "2020-08-30T00:46:34.927927Z"
    },
    "papermill": {
     "duration": 1.08452,
     "end_time": "2020-08-30T00:46:34.929239",
     "exception": false,
     "start_time": "2020-08-30T00:46:33.844719",
     "status": "completed"
    },
    "tags": []
   },
   "outputs": [
    {
     "name": "stdout",
     "output_type": "stream",
     "text": [
      "         date_block_num  shop_id  item_id  price_mean\n",
      "0                     0        2       27      2499.0\n",
      "1                     0        2       33       499.0\n",
      "2                     0        2      317       299.0\n",
      "3                     0        2      438       299.0\n",
      "4                     0        2      471       399.0\n",
      "...                 ...      ...      ...         ...\n",
      "1609117              33       59    22087       119.0\n",
      "1609118              33       59    22088       119.0\n",
      "1609119              33       59    22091       179.0\n",
      "1609120              33       59    22100       629.0\n",
      "1609121              33       59    22102      1250.0\n",
      "\n",
      "[1609122 rows x 4 columns]\n"
     ]
    }
   ],
   "source": [
    "#前月の平均価格を生成\n",
    "price_mean = sales_train.groupby(['date_block_num','shop_id','item_id']).agg({'item_price': ['mean']})\n",
    "price_mean.columns = ['price_mean']\n",
    "price_mean.reset_index(inplace=True)\n",
    "\n",
    "print(price_mean)"
   ]
  },
  {
   "cell_type": "code",
   "execution_count": 14,
   "metadata": {
    "execution": {
     "iopub.execute_input": "2020-08-30T00:46:34.995745Z",
     "iopub.status.busy": "2020-08-30T00:46:34.994540Z",
     "iopub.status.idle": "2020-08-30T00:46:35.008754Z",
     "shell.execute_reply": "2020-08-30T00:46:35.009822Z"
    },
    "papermill": {
     "duration": 0.059353,
     "end_time": "2020-08-30T00:46:35.010108",
     "exception": false,
     "start_time": "2020-08-30T00:46:34.950755",
     "status": "completed"
    },
    "tags": []
   },
   "outputs": [
    {
     "name": "stdout",
     "output_type": "stream",
     "text": [
      "       item_id  item_category_id  item_type  item_subtype\n",
      "0            0                40         11             4\n",
      "1            1                76         15            31\n",
      "2            2                40         11             4\n",
      "3            3                40         11             4\n",
      "4            4                40         11             4\n",
      "...        ...               ...        ...           ...\n",
      "22165    22165                31          8            61\n",
      "22166    22166                54         12            61\n",
      "22167    22167                49         12            39\n",
      "22168    22168                62         14            28\n",
      "22169    22169                69         14            56\n",
      "\n",
      "[22170 rows x 4 columns]\n"
     ]
    }
   ],
   "source": [
    "# アイテムのカテゴリの細分化\n",
    "item_categories['split'] = item_categories['item_category_name'].str.split('-')\n",
    "item_categories['first'] = item_categories['split'].map(lambda x: x[0].strip())\n",
    "item_categories['item_type'] = LabelEncoder().fit_transform(item_categories['first']).astype(np.int8)\n",
    "\n",
    "item_categories['other'] = item_categories['split'].map(lambda x: x[1].strip() if len(x) > 1 else x[0].strip())\n",
    "item_categories['item_subtype'] = LabelEncoder().fit_transform(item_categories['other']).astype(np.int8)\n",
    "item_categories = item_categories[['item_category_id','item_type', 'item_subtype']]\n",
    "\n",
    "item = pd.merge(item.drop('item_name', axis=1), item_categories, on=['item_category_id'], how='left')\n",
    "print(item)"
   ]
  },
  {
   "cell_type": "code",
   "execution_count": 15,
   "metadata": {
    "execution": {
     "iopub.execute_input": "2020-08-30T00:46:35.065103Z",
     "iopub.status.busy": "2020-08-30T00:46:35.063324Z",
     "iopub.status.idle": "2020-08-30T00:46:38.534417Z",
     "shell.execute_reply": "2020-08-30T00:46:38.535276Z"
    },
    "papermill": {
     "duration": 3.503222,
     "end_time": "2020-08-30T00:46:38.535521",
     "exception": false,
     "start_time": "2020-08-30T00:46:35.032299",
     "status": "completed"
    },
    "tags": []
   },
   "outputs": [
    {
     "name": "stdout",
     "output_type": "stream",
     "text": [
      "      date_block_num  item_category_id  item_cnt_month_category_avg\n",
      "0                  0                 0                     0.022217\n",
      "1                  0                 1                     0.022217\n",
      "2                  0                 2                     0.835449\n",
      "3                  0                 3                     4.421875\n",
      "4                  0                 4                     0.513184\n",
      "...              ...               ...                          ...\n",
      "2134              34                76                     0.000000\n",
      "2135              34                77                     0.000000\n",
      "2136              34                78                     0.000000\n",
      "2137              34                79                     0.000000\n",
      "2138              34                83                     0.000000\n",
      "\n",
      "[2139 rows x 3 columns]\n"
     ]
    }
   ],
   "source": [
    "#アイテムカテゴリ事の平均売上\n",
    "item_cnt_month_category_avg = pd.merge(df, item, on=['item_id'], how='left').drop(columns=['item_id','item_type','item_subtype'])\n",
    "item_cnt_month_category_avg['item_category_id'] = item_cnt_month_category_avg['item_category_id'].astype(np.int8)\n",
    "\n",
    "item_cnt_month_category_avg = item_cnt_month_category_avg.groupby(['date_block_num','item_category_id']).agg({'item_cnt_month': ['mean']})\n",
    "item_cnt_month_category_avg.columns = ['item_cnt_month_category_avg']\n",
    "item_cnt_month_category_avg.reset_index(inplace=True)\n",
    "\n",
    "item_cnt_month_category_avg['item_cnt_month_category_avg'] = (item_cnt_month_category_avg['item_cnt_month_category_avg'].fillna(0).astype(np.float16))\n",
    "\n",
    "print(item_cnt_month_category_avg)\n"
   ]
  },
  {
   "cell_type": "code",
   "execution_count": 16,
   "metadata": {
    "execution": {
     "iopub.execute_input": "2020-08-30T00:46:38.594599Z",
     "iopub.status.busy": "2020-08-30T00:46:38.593514Z",
     "iopub.status.idle": "2020-08-30T00:46:38.596799Z",
     "shell.execute_reply": "2020-08-30T00:46:38.597426Z"
    },
    "papermill": {
     "duration": 0.040493,
     "end_time": "2020-08-30T00:46:38.597593",
     "exception": false,
     "start_time": "2020-08-30T00:46:38.557100",
     "status": "completed"
    },
    "tags": []
   },
   "outputs": [],
   "source": [
    "# 店舗のカテゴリ化\n",
    "shop['city'] = shop['shop_name'].str.split(' ').map(lambda x: x[0])\n",
    "shop.loc[shop['city'] == '!Якутск', 'city'] = 'Якутск' # 変な重複の除外\n",
    "shop['city_id'] = LabelEncoder().fit_transform(shop['city']).astype(np.int8)\n",
    "shop = shop[['shop_id','city_id']]"
   ]
  },
  {
   "cell_type": "code",
   "execution_count": 17,
   "metadata": {
    "execution": {
     "iopub.execute_input": "2020-08-30T00:46:38.651938Z",
     "iopub.status.busy": "2020-08-30T00:46:38.650862Z",
     "iopub.status.idle": "2020-08-30T00:46:38.657581Z",
     "shell.execute_reply": "2020-08-30T00:46:38.656725Z"
    },
    "papermill": {
     "duration": 0.038552,
     "end_time": "2020-08-30T00:46:38.657758",
     "exception": false,
     "start_time": "2020-08-30T00:46:38.619206",
     "status": "completed"
    },
    "tags": []
   },
   "outputs": [
    {
     "name": "stdout",
     "output_type": "stream",
     "text": [
      "          date_block_num  shop_id  item_id      ID  item_cnt_month\n",
      "0                      0        2       19       0             0.0\n",
      "1                      0        2       27       0             1.0\n",
      "2                      0        2       28       0             0.0\n",
      "3                      0        2       29       0             0.0\n",
      "4                      0        2       32       0             0.0\n",
      "...                  ...      ...      ...     ...             ...\n",
      "11127951              34       45    18454  214195             0.0\n",
      "11127952              34       45    16188  214196             0.0\n",
      "11127953              34       45    15757  214197             0.0\n",
      "11127954              34       45    19648  214198             0.0\n",
      "11127955              34       45      969  214199             0.0\n",
      "\n",
      "[11127956 rows x 5 columns]\n"
     ]
    }
   ],
   "source": [
    "print(df)"
   ]
  },
  {
   "cell_type": "code",
   "execution_count": 18,
   "metadata": {
    "execution": {
     "iopub.execute_input": "2020-08-30T00:46:38.714100Z",
     "iopub.status.busy": "2020-08-30T00:46:38.710301Z",
     "iopub.status.idle": "2020-08-30T00:46:51.786248Z",
     "shell.execute_reply": "2020-08-30T00:46:51.786916Z"
    },
    "papermill": {
     "duration": 13.107312,
     "end_time": "2020-08-30T00:46:51.787107",
     "exception": false,
     "start_time": "2020-08-30T00:46:38.679795",
     "status": "completed"
    },
    "tags": []
   },
   "outputs": [],
   "source": [
    "# 特徴量を追加\n",
    "#month\n",
    "df = pd.merge(df, month, on=['date_block_num'], how='left')\n",
    "\n",
    "#平均売上個数\n",
    "df = pd.merge(df, item_cnt_month_avg, on=['date_block_num','item_id'], how='left')\n",
    "\n",
    "#平均価格\n",
    "df = pd.merge(df, price_mean, on=['date_block_num','shop_id','item_id'], how='left')\n",
    "\n",
    "#アイテムカテゴリ\n",
    "df = pd.merge(df, item, on=['item_id'], how='left')\n",
    "df['item_category_id'] = df['item_category_id'].astype(np.int8)\n",
    "\n",
    "#アイテムカテゴリごとの売り上げ平均\n",
    "df = pd.merge(df, item_cnt_month_category_avg, on=['date_block_num','item_category_id'], how='left')\n",
    "\n",
    "#city_id\n",
    "df = pd.merge(df, shop, on=['shop_id'], how='left')\n"
   ]
  },
  {
   "cell_type": "code",
   "execution_count": 19,
   "metadata": {
    "execution": {
     "iopub.execute_input": "2020-08-30T00:46:51.838525Z",
     "iopub.status.busy": "2020-08-30T00:46:51.837760Z",
     "iopub.status.idle": "2020-08-30T00:46:51.857457Z",
     "shell.execute_reply": "2020-08-30T00:46:51.856506Z"
    },
    "papermill": {
     "duration": 0.048327,
     "end_time": "2020-08-30T00:46:51.857666",
     "exception": false,
     "start_time": "2020-08-30T00:46:51.809339",
     "status": "completed"
    },
    "tags": []
   },
   "outputs": [
    {
     "name": "stdout",
     "output_type": "stream",
     "text": [
      "          date_block_num  shop_id  item_id      ID  item_cnt_month  month  \\\n",
      "0                      0        2       19       0             0.0    1.0   \n",
      "1                      0        2       27       0             1.0    1.0   \n",
      "2                      0        2       28       0             0.0    1.0   \n",
      "3                      0        2       29       0             0.0    1.0   \n",
      "4                      0        2       32       0             0.0    1.0   \n",
      "...                  ...      ...      ...     ...             ...    ...   \n",
      "11127951              34       45    18454  214195             0.0    NaN   \n",
      "11127952              34       45    16188  214196             0.0    NaN   \n",
      "11127953              34       45    15757  214197             0.0    NaN   \n",
      "11127954              34       45    19648  214198             0.0    NaN   \n",
      "11127955              34       45      969  214199             0.0    NaN   \n",
      "\n",
      "          item_cnt_month_avg  price_mean  item_category_id  item_type  \\\n",
      "0                   0.022217         NaN                40         11   \n",
      "1                   0.155518      2499.0                19          5   \n",
      "2                   0.177734         NaN                30          8   \n",
      "3                   0.088867         NaN                23          5   \n",
      "4                   5.378906         NaN                40         11   \n",
      "...                      ...         ...               ...        ...   \n",
      "11127951            0.000000         NaN                55         13   \n",
      "11127952            0.000000         NaN                64         14   \n",
      "11127953            0.000000         NaN                55         13   \n",
      "11127954            0.000000         NaN                40         11   \n",
      "11127955            0.000000         NaN                37         11   \n",
      "\n",
      "          item_subtype  item_cnt_month_category_avg  city_id  \n",
      "0                    4                     0.293945        0  \n",
      "1                   10                     0.834961        0  \n",
      "2                   55                     1.126953        0  \n",
      "3                   16                     0.547363        0  \n",
      "4                    4                     0.293945        0  \n",
      "...                ...                          ...      ...  \n",
      "11127951             2                     0.000000       20  \n",
      "11127952            42                     0.000000       20  \n",
      "11127953             2                     0.000000       20  \n",
      "11127954             4                     0.000000       20  \n",
      "11127955             1                     0.000000       20  \n",
      "\n",
      "[11127956 rows x 13 columns]\n"
     ]
    }
   ],
   "source": [
    "print(df)"
   ]
  },
  {
   "cell_type": "code",
   "execution_count": 20,
   "metadata": {
    "execution": {
     "iopub.execute_input": "2020-08-30T00:46:51.917745Z",
     "iopub.status.busy": "2020-08-30T00:46:51.916574Z",
     "iopub.status.idle": "2020-08-30T00:46:51.920148Z",
     "shell.execute_reply": "2020-08-30T00:46:51.919539Z"
    },
    "papermill": {
     "duration": 0.038742,
     "end_time": "2020-08-30T00:46:51.920288",
     "exception": false,
     "start_time": "2020-08-30T00:46:51.881546",
     "status": "completed"
    },
    "tags": []
   },
   "outputs": [],
   "source": [
    "def add_n_month_ago_feature(df, months, col):\n",
    "    tmp = df[['date_block_num','shop_id','item_id',col]]\n",
    "    for i in months:\n",
    "        shifted = tmp.copy()\n",
    "        shifted.columns = ['date_block_num','shop_id','item_id', col+'_'+str(i)+ '_month_ago']\n",
    "        shifted['date_block_num'] += i\n",
    "        df = pd.merge(df, shifted, on=['date_block_num','shop_id','item_id'], how='left')\n",
    "    return df"
   ]
  },
  {
   "cell_type": "code",
   "execution_count": 21,
   "metadata": {
    "execution": {
     "iopub.execute_input": "2020-08-30T00:46:51.973429Z",
     "iopub.status.busy": "2020-08-30T00:46:51.972575Z",
     "iopub.status.idle": "2020-08-30T00:47:35.410399Z",
     "shell.execute_reply": "2020-08-30T00:47:35.409518Z"
    },
    "papermill": {
     "duration": 43.467904,
     "end_time": "2020-08-30T00:47:35.410544",
     "exception": false,
     "start_time": "2020-08-30T00:46:51.942640",
     "status": "completed"
    },
    "tags": []
   },
   "outputs": [],
   "source": [
    "# Nヶ月前のitem_cnt_monthを生成\n",
    "df = add_n_month_ago_feature(df, [1,2,3,6,12], 'item_cnt_month')"
   ]
  },
  {
   "cell_type": "code",
   "execution_count": 22,
   "metadata": {
    "execution": {
     "iopub.execute_input": "2020-08-30T00:47:35.463715Z",
     "iopub.status.busy": "2020-08-30T00:47:35.462822Z",
     "iopub.status.idle": "2020-08-30T00:48:18.941796Z",
     "shell.execute_reply": "2020-08-30T00:48:18.940992Z"
    },
    "papermill": {
     "duration": 43.508286,
     "end_time": "2020-08-30T00:48:18.941953",
     "exception": false,
     "start_time": "2020-08-30T00:47:35.433667",
     "status": "completed"
    },
    "tags": []
   },
   "outputs": [],
   "source": [
    "# Nヶ月前のitem_cnt_mohtn_avgを生成\n",
    "df = add_n_month_ago_feature(df, [1,2,3,6,12], 'item_cnt_month_avg')"
   ]
  },
  {
   "cell_type": "code",
   "execution_count": 23,
   "metadata": {
    "execution": {
     "iopub.execute_input": "2020-08-30T00:48:18.995009Z",
     "iopub.status.busy": "2020-08-30T00:48:18.994092Z",
     "iopub.status.idle": "2020-08-30T00:49:04.656261Z",
     "shell.execute_reply": "2020-08-30T00:49:04.655569Z"
    },
    "papermill": {
     "duration": 45.691905,
     "end_time": "2020-08-30T00:49:04.656424",
     "exception": false,
     "start_time": "2020-08-30T00:48:18.964519",
     "status": "completed"
    },
    "tags": []
   },
   "outputs": [],
   "source": [
    "# Nヶ月前のprice_meanを生成\n",
    "df = add_n_month_ago_feature(df, [1,2,3,6,12], 'price_mean')"
   ]
  },
  {
   "cell_type": "code",
   "execution_count": 24,
   "metadata": {
    "execution": {
     "iopub.execute_input": "2020-08-30T00:49:04.709180Z",
     "iopub.status.busy": "2020-08-30T00:49:04.708322Z",
     "iopub.status.idle": "2020-08-30T00:49:50.513702Z",
     "shell.execute_reply": "2020-08-30T00:49:50.513035Z"
    },
    "papermill": {
     "duration": 45.834443,
     "end_time": "2020-08-30T00:49:50.513845",
     "exception": false,
     "start_time": "2020-08-30T00:49:04.679402",
     "status": "completed"
    },
    "tags": []
   },
   "outputs": [],
   "source": [
    "# Nヶ月前のitem_cnt_month_category_avgを生成\n",
    "df = add_n_month_ago_feature(df, [1,2,3,6,12], 'item_cnt_month_category_avg')"
   ]
  },
  {
   "cell_type": "code",
   "execution_count": 25,
   "metadata": {
    "execution": {
     "iopub.execute_input": "2020-08-30T00:49:50.566410Z",
     "iopub.status.busy": "2020-08-30T00:49:50.565547Z",
     "iopub.status.idle": "2020-08-30T00:49:51.947344Z",
     "shell.execute_reply": "2020-08-30T00:49:51.946438Z"
    },
    "papermill": {
     "duration": 1.410233,
     "end_time": "2020-08-30T00:49:51.947490",
     "exception": false,
     "start_time": "2020-08-30T00:49:50.537257",
     "status": "completed"
    },
    "tags": []
   },
   "outputs": [],
   "source": [
    "# 当月カラムの削除\n",
    "df = df.drop(columns=['item_cnt_month_avg','price_mean','item_cnt_month_category_avg'])"
   ]
  },
  {
   "cell_type": "code",
   "execution_count": 26,
   "metadata": {
    "execution": {
     "iopub.execute_input": "2020-08-30T00:49:52.020927Z",
     "iopub.status.busy": "2020-08-30T00:49:52.019930Z",
     "iopub.status.idle": "2020-08-30T00:49:52.028841Z",
     "shell.execute_reply": "2020-08-30T00:49:52.028031Z"
    },
    "papermill": {
     "duration": 0.058507,
     "end_time": "2020-08-30T00:49:52.029014",
     "exception": false,
     "start_time": "2020-08-30T00:49:51.970507",
     "status": "completed"
    },
    "tags": []
   },
   "outputs": [
    {
     "name": "stdout",
     "output_type": "stream",
     "text": [
      "          date_block_num  shop_id  item_id      ID  item_cnt_month  month  \\\n",
      "0                      0        2       19       0             0.0    1.0   \n",
      "1                      0        2       27       0             1.0    1.0   \n",
      "2                      0        2       28       0             0.0    1.0   \n",
      "3                      0        2       29       0             0.0    1.0   \n",
      "4                      0        2       32       0             0.0    1.0   \n",
      "...                  ...      ...      ...     ...             ...    ...   \n",
      "11127951              34       45    18454  214195             0.0    NaN   \n",
      "11127952              34       45    16188  214196             0.0    NaN   \n",
      "11127953              34       45    15757  214197             0.0    NaN   \n",
      "11127954              34       45    19648  214198             0.0    NaN   \n",
      "11127955              34       45      969  214199             0.0    NaN   \n",
      "\n",
      "          item_category_id  item_type  item_subtype  city_id  \\\n",
      "0                       40         11             4        0   \n",
      "1                       19          5            10        0   \n",
      "2                       30          8            55        0   \n",
      "3                       23          5            16        0   \n",
      "4                       40         11             4        0   \n",
      "...                    ...        ...           ...      ...   \n",
      "11127951                55         13             2       20   \n",
      "11127952                64         14            42       20   \n",
      "11127953                55         13             2       20   \n",
      "11127954                40         11             4       20   \n",
      "11127955                37         11             1       20   \n",
      "\n",
      "          item_cnt_month_1_month_ago  item_cnt_month_2_month_ago  \\\n",
      "0                                NaN                         NaN   \n",
      "1                                NaN                         NaN   \n",
      "2                                NaN                         NaN   \n",
      "3                                NaN                         NaN   \n",
      "4                                NaN                         NaN   \n",
      "...                              ...                         ...   \n",
      "11127951                         1.0                         0.0   \n",
      "11127952                         0.0                         0.0   \n",
      "11127953                         0.0                         0.0   \n",
      "11127954                         0.0                         0.0   \n",
      "11127955                         0.0                         0.0   \n",
      "\n",
      "          item_cnt_month_3_month_ago  item_cnt_month_6_month_ago  \\\n",
      "0                                NaN                         NaN   \n",
      "1                                NaN                         NaN   \n",
      "2                                NaN                         NaN   \n",
      "3                                NaN                         NaN   \n",
      "4                                NaN                         NaN   \n",
      "...                              ...                         ...   \n",
      "11127951                         0.0                         0.0   \n",
      "11127952                         NaN                         NaN   \n",
      "11127953                         0.0                         0.0   \n",
      "11127954                         0.0                         0.0   \n",
      "11127955                         0.0                         0.0   \n",
      "\n",
      "          item_cnt_month_12_month_ago  item_cnt_month_avg_1_month_ago  \\\n",
      "0                                 NaN                             NaN   \n",
      "1                                 NaN                             NaN   \n",
      "2                                 NaN                             NaN   \n",
      "3                                 NaN                             NaN   \n",
      "4                                 NaN                             NaN   \n",
      "...                               ...                             ...   \n",
      "11127951                          NaN                        0.045441   \n",
      "11127952                          NaN                        0.022720   \n",
      "11127953                          0.0                        0.113647   \n",
      "11127954                          NaN                        0.045441   \n",
      "11127955                          0.0                        0.068176   \n",
      "\n",
      "          item_cnt_month_avg_2_month_ago  item_cnt_month_avg_3_month_ago  \\\n",
      "0                                    NaN                             NaN   \n",
      "1                                    NaN                             NaN   \n",
      "2                                    NaN                             NaN   \n",
      "3                                    NaN                             NaN   \n",
      "4                                    NaN                             NaN   \n",
      "...                                  ...                             ...   \n",
      "11127951                        0.023254                        0.071411   \n",
      "11127952                        0.069763                             NaN   \n",
      "11127953                        0.069763                        0.095215   \n",
      "11127954                        0.069763                        0.166626   \n",
      "11127955                        0.116272                        0.023804   \n",
      "\n",
      "          item_cnt_month_avg_6_month_ago  item_cnt_month_avg_12_month_ago  \\\n",
      "0                                    NaN                              NaN   \n",
      "1                                    NaN                              NaN   \n",
      "2                                    NaN                              NaN   \n",
      "3                                    NaN                              NaN   \n",
      "4                                    NaN                              NaN   \n",
      "...                                  ...                              ...   \n",
      "11127951                        0.590820                              NaN   \n",
      "11127952                             NaN                              NaN   \n",
      "11127953                        0.250000                         0.180054   \n",
      "11127954                        0.090881                              NaN   \n",
      "11127955                        0.068176                         0.119995   \n",
      "\n",
      "          price_mean_1_month_ago  price_mean_2_month_ago  \\\n",
      "0                            NaN                     NaN   \n",
      "1                            NaN                     NaN   \n",
      "2                            NaN                     NaN   \n",
      "3                            NaN                     NaN   \n",
      "4                            NaN                     NaN   \n",
      "...                          ...                     ...   \n",
      "11127951                    99.0                     NaN   \n",
      "11127952                     NaN                     NaN   \n",
      "11127953                     NaN                     NaN   \n",
      "11127954                     NaN                     NaN   \n",
      "11127955                     NaN                     NaN   \n",
      "\n",
      "          price_mean_3_month_ago  price_mean_6_month_ago  \\\n",
      "0                            NaN                     NaN   \n",
      "1                            NaN                     NaN   \n",
      "2                            NaN                     NaN   \n",
      "3                            NaN                     NaN   \n",
      "4                            NaN                     NaN   \n",
      "...                          ...                     ...   \n",
      "11127951                     NaN                     NaN   \n",
      "11127952                     NaN                     NaN   \n",
      "11127953                     NaN                     NaN   \n",
      "11127954                     NaN                     NaN   \n",
      "11127955                     NaN                     NaN   \n",
      "\n",
      "          price_mean_12_month_ago  item_cnt_month_category_avg_1_month_ago  \\\n",
      "0                             NaN                                      NaN   \n",
      "1                             NaN                                      NaN   \n",
      "2                             NaN                                      NaN   \n",
      "3                             NaN                                      NaN   \n",
      "4                             NaN                                      NaN   \n",
      "...                           ...                                      ...   \n",
      "11127951                      NaN                                 0.196899   \n",
      "11127952                      NaN                                 0.155884   \n",
      "11127953                      NaN                                 0.196899   \n",
      "11127954                      NaN                                 0.220825   \n",
      "11127955                      NaN                                 0.256836   \n",
      "\n",
      "          item_cnt_month_category_avg_2_month_ago  \\\n",
      "0                                             NaN   \n",
      "1                                             NaN   \n",
      "2                                             NaN   \n",
      "3                                             NaN   \n",
      "4                                             NaN   \n",
      "...                                           ...   \n",
      "11127951                                 0.177612   \n",
      "11127952                                 0.167847   \n",
      "11127953                                 0.177612   \n",
      "11127954                                 0.200928   \n",
      "11127955                                 0.201904   \n",
      "\n",
      "          item_cnt_month_category_avg_3_month_ago  \\\n",
      "0                                             NaN   \n",
      "1                                             NaN   \n",
      "2                                             NaN   \n",
      "3                                             NaN   \n",
      "4                                             NaN   \n",
      "...                                           ...   \n",
      "11127951                                 0.217285   \n",
      "11127952                                      NaN   \n",
      "11127953                                 0.217285   \n",
      "11127954                                 0.242188   \n",
      "11127955                                 0.192017   \n",
      "\n",
      "          item_cnt_month_category_avg_6_month_ago  \\\n",
      "0                                             NaN   \n",
      "1                                             NaN   \n",
      "2                                             NaN   \n",
      "3                                             NaN   \n",
      "4                                             NaN   \n",
      "...                                           ...   \n",
      "11127951                                 0.206909   \n",
      "11127952                                      NaN   \n",
      "11127953                                 0.206909   \n",
      "11127954                                 0.227417   \n",
      "11127955                                 0.146851   \n",
      "\n",
      "          item_cnt_month_category_avg_12_month_ago  \n",
      "0                                              NaN  \n",
      "1                                              NaN  \n",
      "2                                              NaN  \n",
      "3                                              NaN  \n",
      "4                                              NaN  \n",
      "...                                            ...  \n",
      "11127951                                       NaN  \n",
      "11127952                                       NaN  \n",
      "11127953                                  0.248047  \n",
      "11127954                                       NaN  \n",
      "11127955                                  0.156982  \n",
      "\n",
      "[11127956 rows x 30 columns]\n"
     ]
    }
   ],
   "source": [
    "print(df)"
   ]
  },
  {
   "cell_type": "markdown",
   "execution_count": null,
   "metadata": {
    "papermill": {
     "duration": 0.023216,
     "end_time": "2020-08-30T00:49:52.075703",
     "exception": false,
     "start_time": "2020-08-30T00:49:52.052487",
     "status": "completed"
    },
    "tags": []
   },
   "source": [
    "## 学習データの決定"
   ]
  },
  {
   "cell_type": "code",
   "execution_count": 27,
   "metadata": {
    "execution": {
     "iopub.execute_input": "2020-08-30T00:49:52.129686Z",
     "iopub.status.busy": "2020-08-30T00:49:52.128802Z",
     "iopub.status.idle": "2020-08-30T00:49:53.399489Z",
     "shell.execute_reply": "2020-08-30T00:49:53.398825Z"
    },
    "papermill": {
     "duration": 1.300726,
     "end_time": "2020-08-30T00:49:53.399640",
     "exception": false,
     "start_time": "2020-08-30T00:49:52.098914",
     "status": "completed"
    },
    "tags": []
   },
   "outputs": [],
   "source": [
    "train_df = df[(df['date_block_num'] < 33) & (df['date_block_num'] > 12) ]\n",
    "train_df = train_df.drop(columns='ID')\n",
    "train_ds = lgb.Dataset(train_df.drop(columns='item_cnt_month'), label=train_df['item_cnt_month'])"
   ]
  },
  {
   "cell_type": "code",
   "execution_count": 28,
   "metadata": {
    "execution": {
     "iopub.execute_input": "2020-08-30T00:49:53.454480Z",
     "iopub.status.busy": "2020-08-30T00:49:53.453641Z",
     "iopub.status.idle": "2020-08-30T00:49:53.509511Z",
     "shell.execute_reply": "2020-08-30T00:49:53.508627Z"
    },
    "papermill": {
     "duration": 0.085957,
     "end_time": "2020-08-30T00:49:53.509654",
     "exception": false,
     "start_time": "2020-08-30T00:49:53.423697",
     "status": "completed"
    },
    "tags": []
   },
   "outputs": [],
   "source": [
    "valid_df = df[df['date_block_num'] == 33 ]\n",
    "valid_df = valid_df.drop(columns='ID')\n",
    "valid_ds = lgb.Dataset(valid_df.drop(columns='item_cnt_month'), label=valid_df['item_cnt_month'])"
   ]
  },
  {
   "cell_type": "markdown",
   "execution_count": null,
   "metadata": {
    "papermill": {
     "duration": 0.022723,
     "end_time": "2020-08-30T00:49:53.555850",
     "exception": false,
     "start_time": "2020-08-30T00:49:53.533127",
     "status": "completed"
    },
    "tags": []
   },
   "source": [
    "## testデータ作成"
   ]
  },
  {
   "cell_type": "code",
   "execution_count": 29,
   "metadata": {
    "execution": {
     "iopub.execute_input": "2020-08-30T00:49:53.609403Z",
     "iopub.status.busy": "2020-08-30T00:49:53.608194Z",
     "iopub.status.idle": "2020-08-30T00:49:53.654576Z",
     "shell.execute_reply": "2020-08-30T00:49:53.655219Z"
    },
    "papermill": {
     "duration": 0.076246,
     "end_time": "2020-08-30T00:49:53.655396",
     "exception": false,
     "start_time": "2020-08-30T00:49:53.579150",
     "status": "completed"
    },
    "tags": []
   },
   "outputs": [],
   "source": [
    "test_df = df[df['date_block_num'] == 34 ]\n",
    "test_df = test_df.drop(columns='item_cnt_month')"
   ]
  },
  {
   "cell_type": "code",
   "execution_count": 30,
   "metadata": {
    "execution": {
     "iopub.execute_input": "2020-08-30T00:49:53.729517Z",
     "iopub.status.busy": "2020-08-30T00:49:53.728216Z",
     "iopub.status.idle": "2020-08-30T00:49:53.735996Z",
     "shell.execute_reply": "2020-08-30T00:49:53.736932Z"
    },
    "papermill": {
     "duration": 0.058478,
     "end_time": "2020-08-30T00:49:53.737173",
     "exception": false,
     "start_time": "2020-08-30T00:49:53.678695",
     "status": "completed"
    },
    "tags": []
   },
   "outputs": [
    {
     "name": "stdout",
     "output_type": "stream",
     "text": [
      "          date_block_num  shop_id  item_id      ID  month  item_category_id  \\\n",
      "10913756              34        5     5037       0    NaN                19   \n",
      "10913757              34        5     5320       1    NaN                55   \n",
      "10913758              34        5     5233       2    NaN                19   \n",
      "10913759              34        5     5232       3    NaN                23   \n",
      "10913760              34        5     5268       4    NaN                20   \n",
      "...                  ...      ...      ...     ...    ...               ...   \n",
      "11127951              34       45    18454  214195    NaN                55   \n",
      "11127952              34       45    16188  214196    NaN                64   \n",
      "11127953              34       45    15757  214197    NaN                55   \n",
      "11127954              34       45    19648  214198    NaN                40   \n",
      "11127955              34       45      969  214199    NaN                37   \n",
      "\n",
      "          item_type  item_subtype  city_id  item_cnt_month_1_month_ago  \\\n",
      "10913756          5            10        3                         0.0   \n",
      "10913757         13             2        3                         NaN   \n",
      "10913758          5            10        3                         1.0   \n",
      "10913759          5            16        3                         0.0   \n",
      "10913760          5            11        3                         NaN   \n",
      "...             ...           ...      ...                         ...   \n",
      "11127951         13             2       20                         1.0   \n",
      "11127952         14            42       20                         0.0   \n",
      "11127953         13             2       20                         0.0   \n",
      "11127954         11             4       20                         0.0   \n",
      "11127955         11             1       20                         0.0   \n",
      "\n",
      "          item_cnt_month_2_month_ago  item_cnt_month_3_month_ago  \\\n",
      "10913756                         1.0                         3.0   \n",
      "10913757                         NaN                         NaN   \n",
      "10913758                         3.0                         1.0   \n",
      "10913759                         0.0                         1.0   \n",
      "10913760                         NaN                         NaN   \n",
      "...                              ...                         ...   \n",
      "11127951                         0.0                         0.0   \n",
      "11127952                         0.0                         NaN   \n",
      "11127953                         0.0                         0.0   \n",
      "11127954                         0.0                         0.0   \n",
      "11127955                         0.0                         0.0   \n",
      "\n",
      "          item_cnt_month_6_month_ago  item_cnt_month_12_month_ago  \\\n",
      "10913756                         1.0                          1.0   \n",
      "10913757                         NaN                          NaN   \n",
      "10913758                         3.0                          NaN   \n",
      "10913759                         NaN                          NaN   \n",
      "10913760                         NaN                          NaN   \n",
      "...                              ...                          ...   \n",
      "11127951                         0.0                          NaN   \n",
      "11127952                         NaN                          NaN   \n",
      "11127953                         0.0                          0.0   \n",
      "11127954                         0.0                          NaN   \n",
      "11127955                         0.0                          0.0   \n",
      "\n",
      "          item_cnt_month_avg_1_month_ago  item_cnt_month_avg_2_month_ago  \\\n",
      "10913756                        0.568359                        2.511719   \n",
      "10913757                             NaN                             NaN   \n",
      "10913758                        0.954590                        1.860352   \n",
      "10913759                        0.636230                        1.116211   \n",
      "10913760                             NaN                             NaN   \n",
      "...                                  ...                             ...   \n",
      "11127951                        0.045441                        0.023254   \n",
      "11127952                        0.022720                        0.069763   \n",
      "11127953                        0.113647                        0.069763   \n",
      "11127954                        0.045441                        0.069763   \n",
      "11127955                        0.068176                        0.116272   \n",
      "\n",
      "          item_cnt_month_avg_3_month_ago  item_cnt_month_avg_6_month_ago  \\\n",
      "10913756                        2.833984                        1.977539   \n",
      "10913757                             NaN                             NaN   \n",
      "10913758                        3.572266                        1.613281   \n",
      "10913759                        1.547852                             NaN   \n",
      "10913760                             NaN                             NaN   \n",
      "...                                  ...                             ...   \n",
      "11127951                        0.071411                        0.590820   \n",
      "11127952                             NaN                             NaN   \n",
      "11127953                        0.095215                        0.250000   \n",
      "11127954                        0.166626                        0.090881   \n",
      "11127955                        0.023804                        0.068176   \n",
      "\n",
      "          item_cnt_month_avg_12_month_ago  price_mean_1_month_ago  \\\n",
      "10913756                         1.299805                     NaN   \n",
      "10913757                              NaN                     NaN   \n",
      "10913758                              NaN                  1199.0   \n",
      "10913759                              NaN                     NaN   \n",
      "10913760                              NaN                     NaN   \n",
      "...                                   ...                     ...   \n",
      "11127951                              NaN                    99.0   \n",
      "11127952                              NaN                     NaN   \n",
      "11127953                         0.180054                     NaN   \n",
      "11127954                              NaN                     NaN   \n",
      "11127955                         0.119995                     NaN   \n",
      "\n",
      "          price_mean_2_month_ago  price_mean_3_month_ago  \\\n",
      "10913756                   749.5              999.166667   \n",
      "10913757                     NaN                     NaN   \n",
      "10913758                   999.0              599.000000   \n",
      "10913759                     NaN              599.000000   \n",
      "10913760                     NaN                     NaN   \n",
      "...                          ...                     ...   \n",
      "11127951                     NaN                     NaN   \n",
      "11127952                     NaN                     NaN   \n",
      "11127953                     NaN                     NaN   \n",
      "11127954                     NaN                     NaN   \n",
      "11127955                     NaN                     NaN   \n",
      "\n",
      "          price_mean_6_month_ago  price_mean_12_month_ago  \\\n",
      "10913756                  1299.0                   2599.0   \n",
      "10913757                     NaN                      NaN   \n",
      "10913758                   899.0                      NaN   \n",
      "10913759                     NaN                      NaN   \n",
      "10913760                     NaN                      NaN   \n",
      "...                          ...                      ...   \n",
      "11127951                     NaN                      NaN   \n",
      "11127952                     NaN                      NaN   \n",
      "11127953                     NaN                      NaN   \n",
      "11127954                     NaN                      NaN   \n",
      "11127955                     NaN                      NaN   \n",
      "\n",
      "          item_cnt_month_category_avg_1_month_ago  \\\n",
      "10913756                                 0.379150   \n",
      "10913757                                      NaN   \n",
      "10913758                                 0.379150   \n",
      "10913759                                 0.337402   \n",
      "10913760                                      NaN   \n",
      "...                                           ...   \n",
      "11127951                                 0.196899   \n",
      "11127952                                 0.155884   \n",
      "11127953                                 0.196899   \n",
      "11127954                                 0.220825   \n",
      "11127955                                 0.256836   \n",
      "\n",
      "          item_cnt_month_category_avg_2_month_ago  \\\n",
      "10913756                                 0.566895   \n",
      "10913757                                      NaN   \n",
      "10913758                                 0.566895   \n",
      "10913759                                 0.570312   \n",
      "10913760                                      NaN   \n",
      "...                                           ...   \n",
      "11127951                                 0.177612   \n",
      "11127952                                 0.167847   \n",
      "11127953                                 0.177612   \n",
      "11127954                                 0.200928   \n",
      "11127955                                 0.201904   \n",
      "\n",
      "          item_cnt_month_category_avg_3_month_ago  \\\n",
      "10913756                                 0.673340   \n",
      "10913757                                      NaN   \n",
      "10913758                                 0.673340   \n",
      "10913759                                 0.555664   \n",
      "10913760                                      NaN   \n",
      "...                                           ...   \n",
      "11127951                                 0.217285   \n",
      "11127952                                      NaN   \n",
      "11127953                                 0.217285   \n",
      "11127954                                 0.242188   \n",
      "11127955                                 0.192017   \n",
      "\n",
      "          item_cnt_month_category_avg_6_month_ago  \\\n",
      "10913756                                 0.450928   \n",
      "10913757                                      NaN   \n",
      "10913758                                 0.450928   \n",
      "10913759                                      NaN   \n",
      "10913760                                      NaN   \n",
      "...                                           ...   \n",
      "11127951                                 0.206909   \n",
      "11127952                                      NaN   \n",
      "11127953                                 0.206909   \n",
      "11127954                                 0.227417   \n",
      "11127955                                 0.146851   \n",
      "\n",
      "          item_cnt_month_category_avg_12_month_ago  \n",
      "10913756                                  0.617676  \n",
      "10913757                                       NaN  \n",
      "10913758                                       NaN  \n",
      "10913759                                       NaN  \n",
      "10913760                                       NaN  \n",
      "...                                            ...  \n",
      "11127951                                       NaN  \n",
      "11127952                                       NaN  \n",
      "11127953                                  0.248047  \n",
      "11127954                                       NaN  \n",
      "11127955                                  0.156982  \n",
      "\n",
      "[214200 rows x 29 columns]\n"
     ]
    }
   ],
   "source": [
    "print(test_df)"
   ]
  },
  {
   "cell_type": "markdown",
   "execution_count": null,
   "metadata": {
    "papermill": {
     "duration": 0.023824,
     "end_time": "2020-08-30T00:49:53.791506",
     "exception": false,
     "start_time": "2020-08-30T00:49:53.767682",
     "status": "completed"
    },
    "tags": []
   },
   "source": [
    "## 学習"
   ]
  },
  {
   "cell_type": "code",
   "execution_count": 31,
   "metadata": {
    "execution": {
     "iopub.execute_input": "2020-08-30T00:49:53.848857Z",
     "iopub.status.busy": "2020-08-30T00:49:53.847753Z",
     "iopub.status.idle": "2020-08-30T00:49:53.851448Z",
     "shell.execute_reply": "2020-08-30T00:49:53.850683Z"
    },
    "papermill": {
     "duration": 0.036251,
     "end_time": "2020-08-30T00:49:53.851579",
     "exception": false,
     "start_time": "2020-08-30T00:49:53.815328",
     "status": "completed"
    },
    "tags": []
   },
   "outputs": [],
   "source": [
    "#params = { 'objective': 'regression', 'metric': 'rmse', 'learning_rate': 0.05 }\n",
    "\n",
    "params = {\n",
    " 'task': 'train',\n",
    " 'boosting_type': 'gbdt',    \n",
    " 'objective': 'regression',\n",
    " 'metric': 'rmse',  \n",
    "    \n",
    " 'lambda_l1': 7.6916883039999915,\n",
    " 'lambda_l2': 1.8801244342481942e-08,\n",
    " 'num_leaves': 31,\n",
    " 'feature_fraction': 0.4,\n",
    " 'bagging_fraction': 1.0,\n",
    " 'bagging_freq': 0,\n",
    " 'min_child_samples': 20,\n",
    " 'learning_rate': 0.05,\n",
    "    \n",
    " 'num_iterations': 9999,\n",
    " 'early_stopping_round': 50,\n",
    " 'verbosity': 1\n",
    "}\n"
   ]
  },
  {
   "cell_type": "code",
   "execution_count": 32,
   "metadata": {
    "execution": {
     "iopub.execute_input": "2020-08-30T00:49:53.909006Z",
     "iopub.status.busy": "2020-08-30T00:49:53.907802Z",
     "iopub.status.idle": "2020-08-30T00:49:53.911952Z",
     "shell.execute_reply": "2020-08-30T00:49:53.911206Z"
    },
    "papermill": {
     "duration": 0.036496,
     "end_time": "2020-08-30T00:49:53.912110",
     "exception": false,
     "start_time": "2020-08-30T00:49:53.875614",
     "status": "completed"
    },
    "tags": []
   },
   "outputs": [],
   "source": [
    "categorical_feature = [\n",
    "    'date_block_num',\n",
    "    'shop_id',\n",
    "    'item_id',\n",
    "    'item_category_id',\n",
    "    'city_id',\n",
    "    'month',\n",
    "    'item_type',\n",
    "    'item_subtype',\n",
    "    'item_cnt_month_1_month_ago',\n",
    "    'item_cnt_month_2_month_ago',\n",
    "    'item_cnt_month_3_month_ago',\n",
    "    'item_cnt_month_6_month_ago',\n",
    "    'item_cnt_month_12_month_ago',\n",
    "    'item_cnt_month_avg_1_month_ago',\n",
    "    'item_cnt_month_avg_2_month_ago',\n",
    "    'item_cnt_month_avg_3_month_ago',\n",
    "    'item_cnt_month_avg_6_month_ago',\n",
    "    'item_cnt_month_avg_12_month_ago',\n",
    "    'price_mean_1_month_ago',\n",
    "    'price_mean_2_month_ago',\n",
    "    'price_mean_3_month_ago',\n",
    "    'price_mean_6_month_ago',\n",
    "    'price_mean_12_month_ago',\n",
    "    'item_cnt_month_category_avg_1_month_ago',\n",
    "    'item_cnt_month_category_avg_2_month_ago',\n",
    "    'item_cnt_month_category_avg_3_month_ago',\n",
    "    'item_cnt_month_category_avg_6_month_ago',\n",
    "    'item_cnt_month_category_avg_12_month_ago',\n",
    "]\n"
   ]
  },
  {
   "cell_type": "code",
   "execution_count": 33,
   "metadata": {
    "_kg_hide-output": false,
    "execution": {
     "iopub.execute_input": "2020-08-30T00:49:53.968543Z",
     "iopub.status.busy": "2020-08-30T00:49:53.967706Z",
     "iopub.status.idle": "2020-08-30T00:50:29.191235Z",
     "shell.execute_reply": "2020-08-30T00:50:29.190399Z"
    },
    "papermill": {
     "duration": 35.254691,
     "end_time": "2020-08-30T00:50:29.191406",
     "exception": false,
     "start_time": "2020-08-30T00:49:53.936715",
     "status": "completed"
    },
    "tags": []
   },
   "outputs": [
    {
     "name": "stderr",
     "output_type": "stream",
     "text": [
      "/opt/conda/lib/python3.7/site-packages/lightgbm/engine.py:148: UserWarning: Found `num_iterations` in params. Will use it instead of argument\n",
      "  warnings.warn(\"Found `{}` in params. Will use it instead of argument\".format(alias))\n",
      "/opt/conda/lib/python3.7/site-packages/lightgbm/engine.py:153: UserWarning: Found `early_stopping_round` in params. Will use it instead of argument\n",
      "  warnings.warn(\"Found `{}` in params. Will use it instead of argument\".format(alias))\n",
      "/opt/conda/lib/python3.7/site-packages/lightgbm/basic.py:1295: UserWarning: categorical_feature in Dataset is overridden.\n",
      "New categorical_feature is ['city_id', 'date_block_num', 'item_category_id', 'item_cnt_month_12_month_ago', 'item_cnt_month_1_month_ago', 'item_cnt_month_2_month_ago', 'item_cnt_month_3_month_ago', 'item_cnt_month_6_month_ago', 'item_cnt_month_avg_12_month_ago', 'item_cnt_month_avg_1_month_ago', 'item_cnt_month_avg_2_month_ago', 'item_cnt_month_avg_3_month_ago', 'item_cnt_month_avg_6_month_ago', 'item_cnt_month_category_avg_12_month_ago', 'item_cnt_month_category_avg_1_month_ago', 'item_cnt_month_category_avg_2_month_ago', 'item_cnt_month_category_avg_3_month_ago', 'item_cnt_month_category_avg_6_month_ago', 'item_id', 'item_subtype', 'item_type', 'month', 'price_mean_12_month_ago', 'price_mean_1_month_ago', 'price_mean_2_month_ago', 'price_mean_3_month_ago', 'price_mean_6_month_ago', 'shop_id']\n",
      "  'New categorical_feature is {}'.format(sorted(list(categorical_feature))))\n"
     ]
    },
    {
     "name": "stdout",
     "output_type": "stream",
     "text": [
      "Training until validation scores don't improve for 50 rounds\n",
      "[50]\ttrain's rmse: 0.833737\tvalid's rmse: 0.935611\n",
      "[100]\ttrain's rmse: 0.787314\tvalid's rmse: 0.941867\n",
      "Early stopping, best iteration is:\n",
      "[56]\ttrain's rmse: 0.825163\tvalid's rmse: 0.933704\n"
     ]
    }
   ],
   "source": [
    "#ハイパラチューニング\n",
    "#best_params, history = {}, []\n",
    "#model = opt_lgb.train(\n",
    "#    params,\n",
    "#    train_ds,\n",
    "#    valid_names=['train', 'valid'],\n",
    "#    valid_sets=[train_ds, valid_ds],\n",
    "#    verbose_eval=False,\n",
    "#    best_params=best_params,\n",
    "#    tuning_history=history,\n",
    "#    categorical_feature=categorical_feature\n",
    "#)\n",
    "\n",
    "model = lgb.train(\n",
    "    params,\n",
    "    train_ds,\n",
    "    valid_names=['train', 'valid'],\n",
    "    valid_sets=[train_ds, valid_ds],\n",
    "    verbose_eval=50,\n",
    "    categorical_feature=categorical_feature\n",
    ")\n"
   ]
  },
  {
   "cell_type": "code",
   "execution_count": 34,
   "metadata": {
    "execution": {
     "iopub.execute_input": "2020-08-30T00:50:29.260890Z",
     "iopub.status.busy": "2020-08-30T00:50:29.259969Z",
     "iopub.status.idle": "2020-08-30T00:50:29.849626Z",
     "shell.execute_reply": "2020-08-30T00:50:29.850251Z"
    },
    "papermill": {
     "duration": 0.628587,
     "end_time": "2020-08-30T00:50:29.850431",
     "exception": false,
     "start_time": "2020-08-30T00:50:29.221844",
     "status": "completed"
    },
    "tags": []
   },
   "outputs": [
    {
     "data": {
      "image/png": "[encoded data removed]",
      "text/plain": [
       "<Figure size 864x432 with 1 Axes>"
      ]
     },
     "metadata": {
      "needs_background": "light"
     },
     "output_type": "display_data"
    }
   ],
   "source": [
    "# 特徴量の重要度をプロットする\n",
    "lgb.plot_importance(model, importance_type='gain', figsize=(12, 6))\n",
    "plt.show()"
   ]
  },
  {
   "cell_type": "code",
   "execution_count": 35,
   "metadata": {
    "execution": {
     "iopub.execute_input": "2020-08-30T00:50:29.914769Z",
     "iopub.status.busy": "2020-08-30T00:50:29.913182Z",
     "iopub.status.idle": "2020-08-30T00:50:30.383663Z",
     "shell.execute_reply": "2020-08-30T00:50:30.382806Z"
    },
    "papermill": {
     "duration": 0.506873,
     "end_time": "2020-08-30T00:50:30.383804",
     "exception": false,
     "start_time": "2020-08-30T00:50:29.876931",
     "status": "completed"
    },
    "tags": []
   },
   "outputs": [
    {
     "data": {
      "image/png": "[encoded data removed]",
      "text/plain": [
       "<Figure size 864x432 with 1 Axes>"
      ]
     },
     "metadata": {
      "needs_background": "light"
     },
     "output_type": "display_data"
    }
   ],
   "source": [
    "lgb.plot_importance(model, importance_type='split', figsize=(12, 6))\n",
    "plt.show()"
   ]
  },
  {
   "cell_type": "code",
   "execution_count": 36,
   "metadata": {
    "execution": {
     "iopub.execute_input": "2020-08-30T00:50:30.443805Z",
     "iopub.status.busy": "2020-08-30T00:50:30.442894Z",
     "iopub.status.idle": "2020-08-30T00:50:30.446466Z",
     "shell.execute_reply": "2020-08-30T00:50:30.445788Z"
    },
    "papermill": {
     "duration": 0.035324,
     "end_time": "2020-08-30T00:50:30.446613",
     "exception": false,
     "start_time": "2020-08-30T00:50:30.411289",
     "status": "completed"
    },
    "tags": []
   },
   "outputs": [],
   "source": [
    "#model.best_score"
   ]
  },
  {
   "cell_type": "code",
   "execution_count": 37,
   "metadata": {
    "execution": {
     "iopub.execute_input": "2020-08-30T00:50:30.507580Z",
     "iopub.status.busy": "2020-08-30T00:50:30.506481Z",
     "iopub.status.idle": "2020-08-30T00:50:30.509749Z",
     "shell.execute_reply": "2020-08-30T00:50:30.510343Z"
    },
    "papermill": {
     "duration": 0.035982,
     "end_time": "2020-08-30T00:50:30.510528",
     "exception": false,
     "start_time": "2020-08-30T00:50:30.474546",
     "status": "completed"
    },
    "tags": []
   },
   "outputs": [],
   "source": [
    "#best_params"
   ]
  },
  {
   "cell_type": "markdown",
   "execution_count": null,
   "metadata": {
    "papermill": {
     "duration": 0.027311,
     "end_time": "2020-08-30T00:50:30.565814",
     "exception": false,
     "start_time": "2020-08-30T00:50:30.538503",
     "status": "completed"
    },
    "tags": []
   },
   "source": [
    "{'lambda_l1': 7.6916883039999915,\n",
    " 'lambda_l2': 1.8801244342481942e-08,\n",
    " 'num_leaves': 31,\n",
    " 'feature_fraction': 0.4,\n",
    " 'bagging_fraction': 1.0,\n",
    " 'bagging_freq': 0,\n",
    " 'min_child_samples': 20,\n",
    " 'objective': 'regression',\n",
    " 'metric': 'rmse',\n",
    " 'learning_rate': 0.05}"
   ]
  },
  {
   "cell_type": "markdown",
   "execution_count": null,
   "metadata": {
    "papermill": {
     "duration": 0.026559,
     "end_time": "2020-08-30T00:50:30.619159",
     "exception": false,
     "start_time": "2020-08-30T00:50:30.592600",
     "status": "completed"
    },
    "tags": []
   },
   "source": [
    "## Prediction"
   ]
  },
  {
   "cell_type": "code",
   "execution_count": 38,
   "metadata": {
    "execution": {
     "iopub.execute_input": "2020-08-30T00:50:30.684528Z",
     "iopub.status.busy": "2020-08-30T00:50:30.683675Z",
     "iopub.status.idle": "2020-08-30T00:50:31.163484Z",
     "shell.execute_reply": "2020-08-30T00:50:31.164274Z"
    },
    "papermill": {
     "duration": 0.518579,
     "end_time": "2020-08-30T00:50:31.164473",
     "exception": false,
     "start_time": "2020-08-30T00:50:30.645894",
     "status": "completed"
    },
    "tags": []
   },
   "outputs": [],
   "source": [
    "val_pred = model.predict(test_df.drop(columns='ID'))"
   ]
  },
  {
   "cell_type": "code",
   "execution_count": 39,
   "metadata": {
    "execution": {
     "iopub.execute_input": "2020-08-30T00:50:31.237987Z",
     "iopub.status.busy": "2020-08-30T00:50:31.237092Z",
     "iopub.status.idle": "2020-08-30T00:50:31.244277Z",
     "shell.execute_reply": "2020-08-30T00:50:31.243059Z"
    },
    "papermill": {
     "duration": 0.047118,
     "end_time": "2020-08-30T00:50:31.244537",
     "exception": false,
     "start_time": "2020-08-30T00:50:31.197419",
     "status": "completed"
    },
    "tags": []
   },
   "outputs": [
    {
     "name": "stdout",
     "output_type": "stream",
     "text": [
      "[0.58031055 0.20926303 0.9794886  ... 0.07137567 0.0656862  0.0656862 ]\n"
     ]
    }
   ],
   "source": [
    "print(val_pred)"
   ]
  },
  {
   "cell_type": "markdown",
   "execution_count": null,
   "metadata": {
    "papermill": {
     "duration": 0.033247,
     "end_time": "2020-08-30T00:50:31.311736",
     "exception": false,
     "start_time": "2020-08-30T00:50:31.278489",
     "status": "completed"
    },
    "tags": []
   },
   "source": [
    "# CSV作成"
   ]
  },
  {
   "cell_type": "code",
   "execution_count": 40,
   "metadata": {
    "execution": {
     "iopub.execute_input": "2020-08-30T00:50:31.379478Z",
     "iopub.status.busy": "2020-08-30T00:50:31.378391Z",
     "iopub.status.idle": "2020-08-30T00:50:31.383022Z",
     "shell.execute_reply": "2020-08-30T00:50:31.383589Z"
    },
    "papermill": {
     "duration": 0.03901,
     "end_time": "2020-08-30T00:50:31.383770",
     "exception": false,
     "start_time": "2020-08-30T00:50:31.344760",
     "status": "completed"
    },
    "tags": []
   },
   "outputs": [],
   "source": [
    "result_tmp = test_df\n",
    "result_tmp['item_cnt_month'] = val_pred"
   ]
  },
  {
   "cell_type": "code",
   "execution_count": 41,
   "metadata": {
    "execution": {
     "iopub.execute_input": "2020-08-30T00:50:31.452247Z",
     "iopub.status.busy": "2020-08-30T00:50:31.449712Z",
     "iopub.status.idle": "2020-08-30T00:50:31.461080Z",
     "shell.execute_reply": "2020-08-30T00:50:31.460004Z"
    },
    "papermill": {
     "duration": 0.049616,
     "end_time": "2020-08-30T00:50:31.461298",
     "exception": false,
     "start_time": "2020-08-30T00:50:31.411682",
     "status": "completed"
    },
    "tags": []
   },
   "outputs": [],
   "source": [
    "result = result_tmp.loc[:,['ID','item_cnt_month']]"
   ]
  },
  {
   "cell_type": "code",
   "execution_count": 42,
   "metadata": {
    "execution": {
     "iopub.execute_input": "2020-08-30T00:50:31.534252Z",
     "iopub.status.busy": "2020-08-30T00:50:31.533307Z",
     "iopub.status.idle": "2020-08-30T00:50:31.540733Z",
     "shell.execute_reply": "2020-08-30T00:50:31.539850Z"
    },
    "papermill": {
     "duration": 0.043746,
     "end_time": "2020-08-30T00:50:31.540931",
     "exception": false,
     "start_time": "2020-08-30T00:50:31.497185",
     "status": "completed"
    },
    "tags": []
   },
   "outputs": [
    {
     "name": "stdout",
     "output_type": "stream",
     "text": [
      "              ID  item_cnt_month\n",
      "10913756       0        0.580311\n",
      "10913757       1        0.209263\n",
      "10913758       2        0.979489\n",
      "10913759       3        0.274682\n",
      "10913760       4        1.791909\n",
      "...          ...             ...\n",
      "11127951  214195        0.187298\n",
      "11127952  214196        0.117010\n",
      "11127953  214197        0.071376\n",
      "11127954  214198        0.065686\n",
      "11127955  214199        0.065686\n",
      "\n",
      "[214200 rows x 2 columns]\n"
     ]
    }
   ],
   "source": [
    "print(result)"
   ]
  },
  {
   "cell_type": "code",
   "execution_count": 43,
   "metadata": {
    "execution": {
     "iopub.execute_input": "2020-08-30T00:50:31.602511Z",
     "iopub.status.busy": "2020-08-30T00:50:31.601666Z",
     "iopub.status.idle": "2020-08-30T00:50:32.688219Z",
     "shell.execute_reply": "2020-08-30T00:50:32.687510Z"
    },
    "papermill": {
     "duration": 1.119841,
     "end_time": "2020-08-30T00:50:32.688376",
     "exception": false,
     "start_time": "2020-08-30T00:50:31.568535",
     "status": "completed"
    },
    "tags": []
   },
   "outputs": [],
   "source": [
    "result.to_csv('submission.csv', index=False)"
   ]
  }
 ],
 "metadata": {
  "kernelspec": {
   "display_name": "Python 3",
   "language": "python",
   "name": "python3"
  },
  "language_info": {
   "codemirror_mode": {
    "name": "ipython",
    "version": 3
   },
   "file_extension": ".py",
   "mimetype": "text/x-python",
   "name": "python",
   "nbconvert_exporter": "python",
   "pygments_lexer": "ipython3",
   "version": "3.7.6"
  },
  "papermill": {
   "duration": 288.750342,
   "end_time": "2020-08-30T00:50:32.825647",
   "environment_variables": {},
   "exception": null,
   "input_path": "__notebook__.ipynb",
   "output_path": "__notebook__.ipynb",
   "parameters": {},
   "start_time": "2020-08-30T00:45:44.075305",
   "version": "2.1.0"
  }
 },
 "nbformat": 4,
 "nbformat_minor": 4
}
